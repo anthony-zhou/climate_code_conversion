{
 "cells": [
  {
   "cell_type": "code",
   "execution_count": 1,
   "metadata": {},
   "outputs": [],
   "source": [
    "from fparser.two.parser import ParserFactory\n",
    "from fparser.common.readfortran import FortranFileReader\n",
    "from fparser.two import Fortran2003"
   ]
  },
  {
   "cell_type": "code",
   "execution_count": 6,
   "metadata": {},
   "outputs": [],
   "source": [
    "def get_subroutines_and_functions(file_path='DaylengthMod.f90'):\n",
    "    # create the Fortran code parser\n",
    "    f2003_parser = ParserFactory().create(std=\"f2003\")\n",
    "\n",
    "    # parse the code\n",
    "    reader = FortranFileReader(file_path)\n",
    "    parse_tree = f2003_parser(reader)\n",
    "\n",
    "    # function to walk the parse tree and print function, type, and subroutine names\n",
    "    def print_public_symbols(node):\n",
    "        result = []\n",
    "        if isinstance(node, (Fortran2003.Function_Subprogram, Fortran2003.Subroutine_Subprogram)):\n",
    "            result.append(node)\n",
    "        elif type(node) is not str and type(node) is not int and type(node) is not float and node is not None:\n",
    "            for child in node.children:\n",
    "                result.extend(print_public_symbols(child))\n",
    "        \n",
    "        return result\n",
    "\n",
    "    # print the names of all public functions, types, and subroutines\n",
    "    nodes = print_public_symbols(parse_tree)\n",
    "\n",
    "    print(f\"Found {len(nodes)} subroutines and functions in {file_path}\")\n",
    "\n",
    "    return [node for node in nodes]"
   ]
  },
  {
   "cell_type": "code",
   "execution_count": 21,
   "metadata": {},
   "outputs": [
    {
     "name": "stdout",
     "output_type": "stream",
     "text": [
      "Found 4 subroutines and functions in DaylengthMod.f90\n",
      "['string', 'item', 'content', 'parent', '__module__', '__doc__', 'subclass_names', 'use_names', 'match', 'init', '_cmpkey', 'tostr', 'torepr', 'tofortran', 'restore_reader', 'subclasses', '__init__', '__new__', 'get_root', 'children', '__str__', '__repr__', '_compare', '__lt__', '__le__', '__eq__', '__ge__', '__gt__', '__ne__', '__dict__', '__weakref__', '__hash__', '__getattribute__', '__setattr__', '__delattr__', '__reduce_ex__', '__reduce__', '__subclasshook__', '__init_subclass__', '__format__', '__sizeof__', '__dir__', '__class__']\n",
      "daylength\n",
      "(Prefix(' ', (Prefix_Spec('ELEMENTAL'), Intrinsic_Type_Spec('REAL', Kind_Selector('(', Name('r8'), ')')))), Name('daylength'), Dummy_Arg_List(',', (Name('lat'), Name('decl'))), None)\n"
     ]
    },
    {
     "ename": "AttributeError",
     "evalue": "'Specification_Part' object has no attribute 'get_name'",
     "output_type": "error",
     "traceback": [
      "\u001b[0;31m---------------------------------------------------------------------------\u001b[0m",
      "\u001b[0;31mAttributeError\u001b[0m                            Traceback (most recent call last)",
      "Cell \u001b[0;32mIn[21], line 5\u001b[0m\n\u001b[1;32m      3\u001b[0m \u001b[39mprint\u001b[39m(node\u001b[39m.\u001b[39m\u001b[39m__dir__\u001b[39m())\n\u001b[1;32m      4\u001b[0m \u001b[39mfor\u001b[39;00m item \u001b[39min\u001b[39;00m node\u001b[39m.\u001b[39mcontent:\n\u001b[0;32m----> 5\u001b[0m     \u001b[39mprint\u001b[39m(item\u001b[39m.\u001b[39;49mget_name())\n\u001b[1;32m      6\u001b[0m     \u001b[39mprint\u001b[39m(item\u001b[39m.\u001b[39mitems)\n",
      "\u001b[0;31mAttributeError\u001b[0m: 'Specification_Part' object has no attribute 'get_name'"
     ]
    }
   ],
   "source": [
    "nodes = get_subroutines_and_functions()\n",
    "for node in nodes:\n",
    "    print(node.__dir__())\n",
    "    for item in node.content:\n",
    "        print(item.get_name())\n",
    "        print(item.items)"
   ]
  },
  {
   "cell_type": "code",
   "execution_count": null,
   "metadata": {},
   "outputs": [],
   "source": []
  }
 ],
 "metadata": {
  "kernelspec": {
   "display_name": "venv",
   "language": "python",
   "name": "python3"
  },
  "language_info": {
   "codemirror_mode": {
    "name": "ipython",
    "version": 3
   },
   "file_extension": ".py",
   "mimetype": "text/x-python",
   "name": "python",
   "nbconvert_exporter": "python",
   "pygments_lexer": "ipython3",
   "version": "3.10.6"
  },
  "orig_nbformat": 4
 },
 "nbformat": 4,
 "nbformat_minor": 2
}
