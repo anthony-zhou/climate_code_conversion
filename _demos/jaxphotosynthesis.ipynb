{
 "cells": [
  {
   "cell_type": "code",
   "execution_count": 3,
   "metadata": {},
   "outputs": [],
   "source": [
    "ci = 35\n",
    "lmr_z = 4\n",
    "par_z = 500\n",
    "gb_mol = 50_000\n",
    "je = 40\n",
    "cair = 45\n",
    "oair = 21000\n",
    "rh_can = 0.40\n",
    "p = 1\n",
    "iv = 1\n",
    "c = 1"
   ]
  },
  {
   "cell_type": "code",
   "execution_count": 4,
   "metadata": {},
   "outputs": [
    {
     "ename": "ModuleNotFoundError",
     "evalue": "No module named 'jax'",
     "output_type": "error",
     "traceback": [
      "\u001b[0;31m---------------------------------------------------------------------------\u001b[0m",
      "\u001b[0;31mModuleNotFoundError\u001b[0m                       Traceback (most recent call last)",
      "Cell \u001b[0;32mIn[4], line 1\u001b[0m\n\u001b[0;32m----> 1\u001b[0m \u001b[39mimport\u001b[39;00m \u001b[39mjax\u001b[39;00m\n\u001b[1;32m      2\u001b[0m \u001b[39mimport\u001b[39;00m \u001b[39mimportlib\u001b[39;00m\n\u001b[1;32m      4\u001b[0m importlib\u001b[39m.\u001b[39mreload(jax)\n",
      "\u001b[0;31mModuleNotFoundError\u001b[0m: No module named 'jax'"
     ]
    }
   ],
   "source": [
    "import jax\n",
    "import importlib\n",
    "\n",
    "importlib.reload(jax)\n",
    "\n",
    "import os\n",
    "os.environ['TF_CPP_MIN_LOG_LEVEL'] = '0'\n",
    "os.environ['CUDA_VISIBLE_DEVICES'] = '1'\n",
    "print(os.environ.items)\n",
    "\n",
    "def is_jax_using_gpu():\n",
    "    return any(device.device_kind == \"gpu\" for device in jax.devices())\n",
    "\n",
    "print(is_jax_using_gpu())\n",
    "print(jax.devices())\n"
   ]
  },
  {
   "cell_type": "code",
   "execution_count": 4,
   "metadata": {},
   "outputs": [
    {
     "data": {
      "text/plain": [
       "(Array(-2.4142137, dtype=float32, weak_type=True),\n",
       " Array(0.41421354, dtype=float32, weak_type=True))"
      ]
     },
     "execution_count": 4,
     "metadata": {},
     "output_type": "execute_result"
    }
   ],
   "source": [
    "import jax.numpy as jnp\n",
    "\n",
    "def quadratic(a, b, c):\n",
    "    \"\"\"\n",
    "    Computes the roots of a quadratic equation using the quadratic formula.\n",
    "\n",
    "    Given a quadratic equation of the form ax^2 + bx + c = 0, this function returns its\n",
    "    two solutions. Note: This implementation assumes real-valued coefficients and\n",
    "    does not handle cases where the discriminant is negative (leading to complex solutions).\n",
    "\n",
    "    Args:\n",
    "    - a (float or array-like): Coefficient of x^2.\n",
    "    - b (float or array-like): Coefficient of x.\n",
    "    - c (float or array-like): Constant term.\n",
    "\n",
    "    Returns:\n",
    "    - tuple: A tuple containing the two roots of the quadratic equation.\n",
    "        - root1 (float or array-like): First root.\n",
    "        - root2 (float or array-like): Second root.\n",
    "\n",
    "    Example:\n",
    "    >>> quadratic(1, -3, 2)\n",
    "    (1.0, 2.0)\n",
    "    \"\"\"\n",
    "    sqrt_discriminant = jnp.sqrt(b**2 - 4 * a * c)\n",
    "    root1 = (-b - sqrt_discriminant) / (2 * a)\n",
    "    root2 = (-b + sqrt_discriminant) / (2 * a)\n",
    "    return root1, root2\n",
    "\n",
    "\n",
    "quadratic(1, 2, -1)\n"
   ]
  },
  {
   "cell_type": "code",
   "execution_count": null,
   "metadata": {},
   "outputs": [],
   "source": []
  }
 ],
 "metadata": {
  "kernelspec": {
   "display_name": "venv",
   "language": "python",
   "name": "python3"
  },
  "language_info": {
   "codemirror_mode": {
    "name": "ipython",
    "version": 3
   },
   "file_extension": ".py",
   "mimetype": "text/x-python",
   "name": "python",
   "nbconvert_exporter": "python",
   "pygments_lexer": "ipython3",
   "version": "3.10.12"
  },
  "orig_nbformat": 4
 },
 "nbformat": 4,
 "nbformat_minor": 2
}
