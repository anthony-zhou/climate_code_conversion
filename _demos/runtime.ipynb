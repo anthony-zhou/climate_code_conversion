{
 "cells": [
  {
   "cell_type": "markdown",
   "metadata": {},
   "source": [
    "# Runtime measurements for leaf-level photosynthesis"
   ]
  },
  {
   "cell_type": "markdown",
   "metadata": {},
   "source": [
    "Here we compare the original Fortran code (from CLM) with multiple Python versions, generated mostly by ChatGPT and partly by a human. See the accompanying paper for more context. "
   ]
  },
  {
   "cell_type": "code",
   "execution_count": 1,
   "metadata": {},
   "outputs": [],
   "source": [
    "from importlib.machinery import ModuleSpec\n",
    "import os\n",
    "import time\n",
    "import importlib.util\n",
    "import pandas as pd\n",
    "import plotly.graph_objects as go"
   ]
  },
  {
   "cell_type": "markdown",
   "metadata": {},
   "source": [
    "## Vectorized Inputs"
   ]
  },
  {
   "cell_type": "markdown",
   "metadata": {},
   "source": [
    "Let's try this runtime benchmark again on vector inputs, which is more realistic anyways. "
   ]
  },
  {
   "cell_type": "code",
   "execution_count": null,
   "metadata": {},
   "outputs": [
    {
     "ename": "",
     "evalue": "",
     "output_type": "error",
     "traceback": [
      "\u001b[1;31mRunning cells with 'venv' requires the ipykernel package.\n",
      "\u001b[1;31mRun the following command to install 'ipykernel' into the Python environment. \n",
      "\u001b[1;31mCommand: '/home/ubuntu/climate_code_conversion/venv/bin/python -m pip install ipykernel -U --force-reinstall'"
     ]
    }
   ],
   "source": [
    "import pandas as pd\n",
    "import matplotlib.pyplot as plt\n",
    "import os\n",
    "\n",
    "# List of folders\n",
    "folders = ['fortran', 'jax_cpu', 'jax_gpu', 'numba', 'numpy']\n",
    "\n",
    "# Initialize a figure for plotting\n",
    "plt.figure(figsize=(10, 7))\n",
    "\n",
    "# Loop over each folder to load and plot the data\n",
    "\n",
    "for folder in folders:\n",
    "    filepath = os.path.join('runtime_scripts', folder, 'runtime.txt')\n",
    "    if os.path.exists(filepath):\n",
    "        # Load CSV data\n",
    "        data = pd.read_csv(filepath)\n",
    "        \n",
    "        # Extract grid cells and runtime\n",
    "        grid_cells = data['grid_cells']\n",
    "        runtime = data['runtime']\n",
    "        \n",
    "        # Plot the data\n",
    "        plt.plot(grid_cells, runtime, label=folder, marker='o')\n",
    "\n",
    "# Set log scale for y-axis\n",
    "plt.yscale('log')\n",
    "\n",
    "# Adding title and labels\n",
    "plt.title('Runtime Comparison')\n",
    "plt.xlabel('Grid Cells')\n",
    "plt.ylabel('Runtime (seconds)')\n",
    "plt.legend()\n",
    "\n",
    "# Show the plot\n",
    "plt.grid(True, which=\"both\", ls=\"--\", c='0.65')\n",
    "plt.tight_layout()\n",
    "plt.show()\n"
   ]
  },
  {
   "cell_type": "code",
   "execution_count": null,
   "metadata": {},
   "outputs": [],
   "source": []
  }
 ],
 "metadata": {
  "kernelspec": {
   "display_name": "venv",
   "language": "python",
   "name": "python3"
  },
  "language_info": {
   "codemirror_mode": {
    "name": "ipython",
    "version": 3
   },
   "file_extension": ".py",
   "mimetype": "text/x-python",
   "name": "python",
   "nbconvert_exporter": "python",
   "pygments_lexer": "ipython3",
   "version": "3.10.12"
  },
  "orig_nbformat": 4
 },
 "nbformat": 4,
 "nbformat_minor": 2
}
