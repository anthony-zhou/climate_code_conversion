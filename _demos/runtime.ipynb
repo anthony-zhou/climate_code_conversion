{
 "cells": [
  {
   "cell_type": "markdown",
   "metadata": {},
   "source": [
    "# Runtime measurements for leaf-level photosynthesis"
   ]
  },
  {
   "cell_type": "markdown",
   "metadata": {},
   "source": [
    "Here we compare the original Fortran code (from CLM) with multiple Python versions, generated mostly by ChatGPT and partly by a human. See the accompanying paper for more context. "
   ]
  },
  {
   "cell_type": "code",
   "execution_count": 4,
   "metadata": {},
   "outputs": [],
   "source": [
    "from importlib.machinery import ModuleSpec\n",
    "import os\n",
    "import time\n",
    "import importlib.util\n",
    "import pandas as pd\n",
    "import plotly.graph_objects as go"
   ]
  },
  {
   "cell_type": "code",
   "execution_count": 5,
   "metadata": {},
   "outputs": [],
   "source": [
    "ci = 35\n",
    "lmr_z = 4\n",
    "par_z = 500\n",
    "gb_mol = 50_000\n",
    "je = 40\n",
    "cair = 45\n",
    "oair = 21000\n",
    "rh_can = 0.40\n",
    "p = 1\n",
    "iv = 1\n",
    "c = 1"
   ]
  },
  {
   "cell_type": "code",
   "execution_count": 23,
   "metadata": {},
   "outputs": [
    {
     "data": {
      "application/vnd.plotly.v1+json": {
       "config": {
        "plotlyServerURL": "https://plot.ly"
       },
       "data": [
        {
         "line": {
          "width": 4
         },
         "mode": "lines",
         "name": "vscipy",
         "type": "scatter",
         "x": [
          100,
          150,
          200,
          250,
          300,
          350,
          400,
          450,
          500,
          550,
          600,
          650,
          700,
          750,
          800,
          850,
          900,
          950,
          1000
         ],
         "y": [
          0.0021690368652343,
          0.0032098770141601,
          0.0042713165283203,
          0.0052343845367431,
          0.0063886165618896,
          0.0074810028076171,
          0.0084108352661132,
          0.0095852375030517,
          0.0105600357055664,
          0.0116088390350341,
          0.0125645637512207,
          0.0136801719665527,
          0.0145596027374267,
          0.0155580043792724,
          0.0166194438934326,
          0.0178455829620361,
          0.0187786102294921,
          0.0199544429779052,
          0.0209827423095703
         ]
        },
        {
         "line": {
          "width": 4
         },
         "mode": "lines",
         "name": "vnumba",
         "type": "scatter",
         "x": [
          100,
          150,
          200,
          250,
          300,
          350,
          400,
          450,
          500,
          550,
          600,
          650,
          700,
          750,
          800,
          850,
          900,
          950,
          1000
         ],
         "y": [
          0.00005946159362792969,
          0.00009560585021972656,
          0.0001207828521728,
          0.0001482009887695,
          0.0001896858215332,
          0.0002081871032714,
          0.0002444267272949,
          0.0002660274505615,
          0.0003067970275878,
          0.0003310203552246,
          0.0003672122955322,
          0.0003841876983642,
          0.0004211902618408,
          0.0004565715789794,
          0.0004920005798339,
          0.0005086421966552,
          0.0005434036254882,
          0.0005776405334472,
          0.0005979537963867
         ]
        },
        {
         "line": {
          "width": 4
         },
         "mode": "lines",
         "name": "voriginal",
         "type": "scatter",
         "x": [
          100,
          150,
          200,
          250,
          300,
          350,
          400,
          450,
          500,
          550,
          600,
          650,
          700,
          750,
          800,
          850,
          900,
          950,
          1000
         ],
         "y": [
          0.000783634185791,
          0.0011581897735595,
          0.0015303611755371,
          0.001928424835205,
          0.0023119449615478,
          0.0027122020721435,
          0.003087043762207,
          0.0034605503082275,
          0.0038046360015869,
          0.0042078018188476,
          0.0045589923858642,
          0.0049761772155761,
          0.0053779602050781,
          0.0059514045715332,
          0.0062195777893066,
          0.0066023826599121,
          0.0069092273712158,
          0.0073179721832275,
          0.00769944190979
         ]
        },
        {
         "line": {
          "width": 4
         },
         "mode": "lines",
         "name": "fortran",
         "type": "scatter",
         "x": [
          40,
          60,
          80,
          100,
          120,
          140,
          160,
          180,
          200,
          220,
          240,
          260,
          280,
          300,
          320,
          340,
          360,
          380,
          400,
          420,
          440,
          460,
          480,
          500,
          520,
          540,
          560,
          580,
          600,
          620,
          640,
          660,
          680,
          700,
          720,
          740,
          760,
          780,
          800,
          820,
          840,
          860,
          880,
          900,
          920,
          940,
          960,
          980,
          1000
         ],
         "y": [
          0.000004999999999999796,
          0.000009000000000000327,
          0.00001000000000000046,
          0.000014000000000000123,
          0.000016999999999999654,
          0.000018000000000000654,
          0.000023000000000000447,
          0.00002399999999999972,
          0.00002599999999999998,
          0.00002900000000000038,
          0.000031000000000000645,
          0.00003600000000000131,
          0.00003799999999999984,
          0.00003900000000000084,
          0.00004099999999999937,
          0.00004299999999999964,
          0.00004699999999999843,
          0.0000499999999999997,
          0.0000510000000000007,
          0.000054000000000000235,
          0.00006199999999999956,
          0.00008199999999999874,
          0.00006300000000000056,
          0.00006499999999999909,
          0.00007199999999999915,
          0.00007799999999999993,
          0.00008400000000000074,
          0.00009299999999999933,
          0.0000950000000000013,
          0.00010000000000000112,
          0.00010399999999999993,
          0.00011000000000000072,
          0.00010500000000000093,
          0.00010800000000000046,
          0.00010899999999999972,
          0.00011399999999999952,
          0.00011700000000000078,
          0.00012099999999999958,
          0.0001239999999999991,
          0.00013200000000000017,
          0.0001299999999999999,
          0.00013299999999999944,
          0.00014300000000000077,
          0.00013699999999999997,
          0.00014199999999999977,
          0.00015699999999999915,
          0.00016400000000000095,
          0.00014900000000000156,
          0.00016499999999999848
         ]
        }
       ],
       "layout": {
        "legend": {
         "font": {
          "size": 20
         }
        },
        "template": {
         "data": {
          "bar": [
           {
            "error_x": {
             "color": "#2a3f5f"
            },
            "error_y": {
             "color": "#2a3f5f"
            },
            "marker": {
             "line": {
              "color": "#E5ECF6",
              "width": 0.5
             },
             "pattern": {
              "fillmode": "overlay",
              "size": 10,
              "solidity": 0.2
             }
            },
            "type": "bar"
           }
          ],
          "barpolar": [
           {
            "marker": {
             "line": {
              "color": "#E5ECF6",
              "width": 0.5
             },
             "pattern": {
              "fillmode": "overlay",
              "size": 10,
              "solidity": 0.2
             }
            },
            "type": "barpolar"
           }
          ],
          "carpet": [
           {
            "aaxis": {
             "endlinecolor": "#2a3f5f",
             "gridcolor": "white",
             "linecolor": "white",
             "minorgridcolor": "white",
             "startlinecolor": "#2a3f5f"
            },
            "baxis": {
             "endlinecolor": "#2a3f5f",
             "gridcolor": "white",
             "linecolor": "white",
             "minorgridcolor": "white",
             "startlinecolor": "#2a3f5f"
            },
            "type": "carpet"
           }
          ],
          "choropleth": [
           {
            "colorbar": {
             "outlinewidth": 0,
             "ticks": ""
            },
            "type": "choropleth"
           }
          ],
          "contour": [
           {
            "colorbar": {
             "outlinewidth": 0,
             "ticks": ""
            },
            "colorscale": [
             [
              0,
              "#0d0887"
             ],
             [
              0.1111111111111111,
              "#46039f"
             ],
             [
              0.2222222222222222,
              "#7201a8"
             ],
             [
              0.3333333333333333,
              "#9c179e"
             ],
             [
              0.4444444444444444,
              "#bd3786"
             ],
             [
              0.5555555555555556,
              "#d8576b"
             ],
             [
              0.6666666666666666,
              "#ed7953"
             ],
             [
              0.7777777777777778,
              "#fb9f3a"
             ],
             [
              0.8888888888888888,
              "#fdca26"
             ],
             [
              1,
              "#f0f921"
             ]
            ],
            "type": "contour"
           }
          ],
          "contourcarpet": [
           {
            "colorbar": {
             "outlinewidth": 0,
             "ticks": ""
            },
            "type": "contourcarpet"
           }
          ],
          "heatmap": [
           {
            "colorbar": {
             "outlinewidth": 0,
             "ticks": ""
            },
            "colorscale": [
             [
              0,
              "#0d0887"
             ],
             [
              0.1111111111111111,
              "#46039f"
             ],
             [
              0.2222222222222222,
              "#7201a8"
             ],
             [
              0.3333333333333333,
              "#9c179e"
             ],
             [
              0.4444444444444444,
              "#bd3786"
             ],
             [
              0.5555555555555556,
              "#d8576b"
             ],
             [
              0.6666666666666666,
              "#ed7953"
             ],
             [
              0.7777777777777778,
              "#fb9f3a"
             ],
             [
              0.8888888888888888,
              "#fdca26"
             ],
             [
              1,
              "#f0f921"
             ]
            ],
            "type": "heatmap"
           }
          ],
          "heatmapgl": [
           {
            "colorbar": {
             "outlinewidth": 0,
             "ticks": ""
            },
            "colorscale": [
             [
              0,
              "#0d0887"
             ],
             [
              0.1111111111111111,
              "#46039f"
             ],
             [
              0.2222222222222222,
              "#7201a8"
             ],
             [
              0.3333333333333333,
              "#9c179e"
             ],
             [
              0.4444444444444444,
              "#bd3786"
             ],
             [
              0.5555555555555556,
              "#d8576b"
             ],
             [
              0.6666666666666666,
              "#ed7953"
             ],
             [
              0.7777777777777778,
              "#fb9f3a"
             ],
             [
              0.8888888888888888,
              "#fdca26"
             ],
             [
              1,
              "#f0f921"
             ]
            ],
            "type": "heatmapgl"
           }
          ],
          "histogram": [
           {
            "marker": {
             "pattern": {
              "fillmode": "overlay",
              "size": 10,
              "solidity": 0.2
             }
            },
            "type": "histogram"
           }
          ],
          "histogram2d": [
           {
            "colorbar": {
             "outlinewidth": 0,
             "ticks": ""
            },
            "colorscale": [
             [
              0,
              "#0d0887"
             ],
             [
              0.1111111111111111,
              "#46039f"
             ],
             [
              0.2222222222222222,
              "#7201a8"
             ],
             [
              0.3333333333333333,
              "#9c179e"
             ],
             [
              0.4444444444444444,
              "#bd3786"
             ],
             [
              0.5555555555555556,
              "#d8576b"
             ],
             [
              0.6666666666666666,
              "#ed7953"
             ],
             [
              0.7777777777777778,
              "#fb9f3a"
             ],
             [
              0.8888888888888888,
              "#fdca26"
             ],
             [
              1,
              "#f0f921"
             ]
            ],
            "type": "histogram2d"
           }
          ],
          "histogram2dcontour": [
           {
            "colorbar": {
             "outlinewidth": 0,
             "ticks": ""
            },
            "colorscale": [
             [
              0,
              "#0d0887"
             ],
             [
              0.1111111111111111,
              "#46039f"
             ],
             [
              0.2222222222222222,
              "#7201a8"
             ],
             [
              0.3333333333333333,
              "#9c179e"
             ],
             [
              0.4444444444444444,
              "#bd3786"
             ],
             [
              0.5555555555555556,
              "#d8576b"
             ],
             [
              0.6666666666666666,
              "#ed7953"
             ],
             [
              0.7777777777777778,
              "#fb9f3a"
             ],
             [
              0.8888888888888888,
              "#fdca26"
             ],
             [
              1,
              "#f0f921"
             ]
            ],
            "type": "histogram2dcontour"
           }
          ],
          "mesh3d": [
           {
            "colorbar": {
             "outlinewidth": 0,
             "ticks": ""
            },
            "type": "mesh3d"
           }
          ],
          "parcoords": [
           {
            "line": {
             "colorbar": {
              "outlinewidth": 0,
              "ticks": ""
             }
            },
            "type": "parcoords"
           }
          ],
          "pie": [
           {
            "automargin": true,
            "type": "pie"
           }
          ],
          "scatter": [
           {
            "fillpattern": {
             "fillmode": "overlay",
             "size": 10,
             "solidity": 0.2
            },
            "type": "scatter"
           }
          ],
          "scatter3d": [
           {
            "line": {
             "colorbar": {
              "outlinewidth": 0,
              "ticks": ""
             }
            },
            "marker": {
             "colorbar": {
              "outlinewidth": 0,
              "ticks": ""
             }
            },
            "type": "scatter3d"
           }
          ],
          "scattercarpet": [
           {
            "marker": {
             "colorbar": {
              "outlinewidth": 0,
              "ticks": ""
             }
            },
            "type": "scattercarpet"
           }
          ],
          "scattergeo": [
           {
            "marker": {
             "colorbar": {
              "outlinewidth": 0,
              "ticks": ""
             }
            },
            "type": "scattergeo"
           }
          ],
          "scattergl": [
           {
            "marker": {
             "colorbar": {
              "outlinewidth": 0,
              "ticks": ""
             }
            },
            "type": "scattergl"
           }
          ],
          "scattermapbox": [
           {
            "marker": {
             "colorbar": {
              "outlinewidth": 0,
              "ticks": ""
             }
            },
            "type": "scattermapbox"
           }
          ],
          "scatterpolar": [
           {
            "marker": {
             "colorbar": {
              "outlinewidth": 0,
              "ticks": ""
             }
            },
            "type": "scatterpolar"
           }
          ],
          "scatterpolargl": [
           {
            "marker": {
             "colorbar": {
              "outlinewidth": 0,
              "ticks": ""
             }
            },
            "type": "scatterpolargl"
           }
          ],
          "scatterternary": [
           {
            "marker": {
             "colorbar": {
              "outlinewidth": 0,
              "ticks": ""
             }
            },
            "type": "scatterternary"
           }
          ],
          "surface": [
           {
            "colorbar": {
             "outlinewidth": 0,
             "ticks": ""
            },
            "colorscale": [
             [
              0,
              "#0d0887"
             ],
             [
              0.1111111111111111,
              "#46039f"
             ],
             [
              0.2222222222222222,
              "#7201a8"
             ],
             [
              0.3333333333333333,
              "#9c179e"
             ],
             [
              0.4444444444444444,
              "#bd3786"
             ],
             [
              0.5555555555555556,
              "#d8576b"
             ],
             [
              0.6666666666666666,
              "#ed7953"
             ],
             [
              0.7777777777777778,
              "#fb9f3a"
             ],
             [
              0.8888888888888888,
              "#fdca26"
             ],
             [
              1,
              "#f0f921"
             ]
            ],
            "type": "surface"
           }
          ],
          "table": [
           {
            "cells": {
             "fill": {
              "color": "#EBF0F8"
             },
             "line": {
              "color": "white"
             }
            },
            "header": {
             "fill": {
              "color": "#C8D4E3"
             },
             "line": {
              "color": "white"
             }
            },
            "type": "table"
           }
          ]
         },
         "layout": {
          "annotationdefaults": {
           "arrowcolor": "#2a3f5f",
           "arrowhead": 0,
           "arrowwidth": 1
          },
          "autotypenumbers": "strict",
          "coloraxis": {
           "colorbar": {
            "outlinewidth": 0,
            "ticks": ""
           }
          },
          "colorscale": {
           "diverging": [
            [
             0,
             "#8e0152"
            ],
            [
             0.1,
             "#c51b7d"
            ],
            [
             0.2,
             "#de77ae"
            ],
            [
             0.3,
             "#f1b6da"
            ],
            [
             0.4,
             "#fde0ef"
            ],
            [
             0.5,
             "#f7f7f7"
            ],
            [
             0.6,
             "#e6f5d0"
            ],
            [
             0.7,
             "#b8e186"
            ],
            [
             0.8,
             "#7fbc41"
            ],
            [
             0.9,
             "#4d9221"
            ],
            [
             1,
             "#276419"
            ]
           ],
           "sequential": [
            [
             0,
             "#0d0887"
            ],
            [
             0.1111111111111111,
             "#46039f"
            ],
            [
             0.2222222222222222,
             "#7201a8"
            ],
            [
             0.3333333333333333,
             "#9c179e"
            ],
            [
             0.4444444444444444,
             "#bd3786"
            ],
            [
             0.5555555555555556,
             "#d8576b"
            ],
            [
             0.6666666666666666,
             "#ed7953"
            ],
            [
             0.7777777777777778,
             "#fb9f3a"
            ],
            [
             0.8888888888888888,
             "#fdca26"
            ],
            [
             1,
             "#f0f921"
            ]
           ],
           "sequentialminus": [
            [
             0,
             "#0d0887"
            ],
            [
             0.1111111111111111,
             "#46039f"
            ],
            [
             0.2222222222222222,
             "#7201a8"
            ],
            [
             0.3333333333333333,
             "#9c179e"
            ],
            [
             0.4444444444444444,
             "#bd3786"
            ],
            [
             0.5555555555555556,
             "#d8576b"
            ],
            [
             0.6666666666666666,
             "#ed7953"
            ],
            [
             0.7777777777777778,
             "#fb9f3a"
            ],
            [
             0.8888888888888888,
             "#fdca26"
            ],
            [
             1,
             "#f0f921"
            ]
           ]
          },
          "colorway": [
           "#636efa",
           "#EF553B",
           "#00cc96",
           "#ab63fa",
           "#FFA15A",
           "#19d3f3",
           "#FF6692",
           "#B6E880",
           "#FF97FF",
           "#FECB52"
          ],
          "font": {
           "color": "#2a3f5f"
          },
          "geo": {
           "bgcolor": "white",
           "lakecolor": "white",
           "landcolor": "#E5ECF6",
           "showlakes": true,
           "showland": true,
           "subunitcolor": "white"
          },
          "hoverlabel": {
           "align": "left"
          },
          "hovermode": "closest",
          "mapbox": {
           "style": "light"
          },
          "paper_bgcolor": "white",
          "plot_bgcolor": "#E5ECF6",
          "polar": {
           "angularaxis": {
            "gridcolor": "white",
            "linecolor": "white",
            "ticks": ""
           },
           "bgcolor": "#E5ECF6",
           "radialaxis": {
            "gridcolor": "white",
            "linecolor": "white",
            "ticks": ""
           }
          },
          "scene": {
           "xaxis": {
            "backgroundcolor": "#E5ECF6",
            "gridcolor": "white",
            "gridwidth": 2,
            "linecolor": "white",
            "showbackground": true,
            "ticks": "",
            "zerolinecolor": "white"
           },
           "yaxis": {
            "backgroundcolor": "#E5ECF6",
            "gridcolor": "white",
            "gridwidth": 2,
            "linecolor": "white",
            "showbackground": true,
            "ticks": "",
            "zerolinecolor": "white"
           },
           "zaxis": {
            "backgroundcolor": "#E5ECF6",
            "gridcolor": "white",
            "gridwidth": 2,
            "linecolor": "white",
            "showbackground": true,
            "ticks": "",
            "zerolinecolor": "white"
           }
          },
          "shapedefaults": {
           "line": {
            "color": "#2a3f5f"
           }
          },
          "ternary": {
           "aaxis": {
            "gridcolor": "white",
            "linecolor": "white",
            "ticks": ""
           },
           "baxis": {
            "gridcolor": "white",
            "linecolor": "white",
            "ticks": ""
           },
           "bgcolor": "#E5ECF6",
           "caxis": {
            "gridcolor": "white",
            "linecolor": "white",
            "ticks": ""
           }
          },
          "title": {
           "x": 0.05
          },
          "xaxis": {
           "automargin": true,
           "gridcolor": "white",
           "linecolor": "white",
           "ticks": "",
           "title": {
            "standoff": 15
           },
           "zerolinecolor": "white",
           "zerolinewidth": 2
          },
          "yaxis": {
           "automargin": true,
           "gridcolor": "white",
           "linecolor": "white",
           "ticks": "",
           "title": {
            "standoff": 15
           },
           "zerolinecolor": "white",
           "zerolinewidth": 2
          }
         }
        },
        "title": {
         "font": {
          "size": 24
         },
         "text": "Runtime of ci solver (averaged across 5 runs)"
        },
        "xaxis": {
         "range": [
          2,
          3
         ],
         "tickfont": {
          "size": 14
         },
         "title": {
          "font": {
           "size": 20
          },
          "text": "Number of Trials"
         },
         "type": "log"
        },
        "yaxis": {
         "tickfont": {
          "size": 14
         },
         "title": {
          "font": {
           "size": 20
          },
          "text": "Runtime (s)"
         },
         "type": "log"
        }
       }
      }
     },
     "metadata": {},
     "output_type": "display_data"
    }
   ],
   "source": [
    "\n",
    "def run_and_record(path):\n",
    "    for filename in os.listdir(path):\n",
    "        if filename.endswith(\".py\"):\n",
    "            module_name = filename[:-3]  # Remove .py extension\n",
    "            if module_name.startswith(\"_\"):\n",
    "                continue\n",
    "            file_path = os.path.join(path, filename)\n",
    "\n",
    "            spec = importlib.util.spec_from_file_location(module_name, file_path)\n",
    "            if spec is None or spec.loader is None:\n",
    "                continue\n",
    "\n",
    "            module = importlib.util.module_from_spec(spec)\n",
    "            spec.loader.exec_module(module)\n",
    "\n",
    "            if hasattr(module, \"main\"):\n",
    "                results = []\n",
    "                for n in range(0, 1001, 50):\n",
    "                    total_runtime = 0\n",
    "                    ci_val, gs_mol = 0, 0\n",
    "                    for _ in range(5):  # Loop for 5 runs\n",
    "                        start_time = time.time()\n",
    "                        for _ in range(0, n):\n",
    "                            ci_val, gs_mol = module.main(\n",
    "                                ci,\n",
    "                                lmr_z,\n",
    "                                par_z,\n",
    "                                gb_mol,\n",
    "                                je,\n",
    "                                cair,\n",
    "                                oair,\n",
    "                                rh_can,\n",
    "                                p,\n",
    "                                iv,\n",
    "                                c,\n",
    "                            )\n",
    "                        end_time = time.time()\n",
    "                        runtime = end_time - start_time\n",
    "                        total_runtime += runtime\n",
    "                    average_runtime = total_runtime / 5  # Compute the average runtime\n",
    "                    results.append((ci_val, gs_mol, n, average_runtime))\n",
    "\n",
    "                with open(f\"{path}/{module_name}_runtime.txt\", \"w\") as f:\n",
    "                    for ci_val, gs_mol, n, runtime in results:\n",
    "                        f.write(f\"{ci_val}, {gs_mol}, {n}, {runtime}\\n\")\n",
    "\n",
    "\n",
    "def plot_runtimes(path):\n",
    "    dataframes = {}\n",
    "\n",
    "    for filename in os.listdir(path):\n",
    "        if filename.endswith(\"_runtime.txt\"):\n",
    "            with open(os.path.join(path, filename), \"r\") as f:\n",
    "                dataframes[filename] = pd.read_csv(\n",
    "                    f, names=[\"ci\", \"gs_mol\", \"Trials\", \"Runtime\"]\n",
    "                )\n",
    "\n",
    "    fig = go.Figure()\n",
    "\n",
    "    for file in dataframes.keys():\n",
    "        file_df = dataframes[file]\n",
    "        fig.add_trace(\n",
    "            go.Scatter(\n",
    "                # Ignore the first trial, which is when numba gets initialized.\n",
    "                x=file_df[\"Trials\"][2:],\n",
    "                y=file_df[\"Runtime\"][2:],\n",
    "                mode=\"lines\",\n",
    "                line=dict(width=4),\n",
    "                name=file[:-12]\n",
    "            )\n",
    "        )\n",
    "\n",
    "    fig.update_layout(\n",
    "        title=\"Runtime of ci solver (averaged across 5 runs)\",\n",
    "        title_font=dict(size=24),\n",
    "        xaxis_title=\"Number of Trials\",\n",
    "        yaxis_title=\"Runtime (s)\",\n",
    "        legend_font=dict(size=20),\n",
    "        xaxis=dict(tickfont=dict(size=14)),  # Set x-axis tick label font size to 14\n",
    "        yaxis=dict(tickfont=dict(size=14))   # Set y-axis tick label font size to 14\n",
    "    )\n",
    "\n",
    "    fig.update_xaxes(type=\"log\", range=[2, 3], title_font=dict(size=20), tickfont=dict(size=14))\n",
    "    fig.update_yaxes(type=\"log\", title_font=dict(size=20))\n",
    "\n",
    "    fig.show()\n",
    "    fig.write_html('temp.html')\n",
    "\n",
    "\n",
    "if __name__ == \"__main__\":\n",
    "    run_and_record(\"runtime_scripts/python/comparisons\")\n",
    "    plot_runtimes(\"runtime_scripts/python/comparisons\")\n"
   ]
  },
  {
   "cell_type": "code",
   "execution_count": null,
   "metadata": {},
   "outputs": [],
   "source": []
  }
 ],
 "metadata": {
  "kernelspec": {
   "display_name": "venv",
   "language": "python",
   "name": "python3"
  },
  "language_info": {
   "codemirror_mode": {
    "name": "ipython",
    "version": 3
   },
   "file_extension": ".py",
   "mimetype": "text/x-python",
   "name": "python",
   "nbconvert_exporter": "python",
   "pygments_lexer": "ipython3",
   "version": "3.10.6"
  },
  "orig_nbformat": 4
 },
 "nbformat": 4,
 "nbformat_minor": 2
}
