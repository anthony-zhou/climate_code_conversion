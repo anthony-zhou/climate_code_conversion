{
 "cells": [
  {
   "attachments": {},
   "cell_type": "markdown",
   "metadata": {},
   "source": [
    "# Parameter estimation with ci_func"
   ]
  },
  {
   "attachments": {},
   "cell_type": "markdown",
   "metadata": {},
   "source": [
    "Our goal is to estimate values for Vcmax using `ci_func`, along with some observational data. The approach is as follows:\n",
    "\n",
    "1. Define a version of `ci_func` that takes Vcmax as input (and all other inputs as constants). Note that `Je` will be derived as `Je = Jmax = 1.67 * Vcmax`. \n",
    "2. Use random guessing to estimate values of Vcmax.\n",
    "3. Use gradient descent to estimate values of Vcmax. \n"
   ]
  },
  {
   "cell_type": "code",
   "execution_count": 8,
   "metadata": {},
   "outputs": [],
   "source": [
    "import math\n",
    "import numpy as np\n",
    "from jax import jit\n",
    "import jax.numpy as jnp\n",
    "\n",
    "\n",
    "\n",
    "def hybrid(x0, lmr_z, par_z, gb_mol, vcmax_z, cair, oair, rh_can, p, iv, c):\n",
    "    eps = 1e-2\n",
    "    eps1 = 1e-4\n",
    "    itmax = 40\n",
    "    iter = 0\n",
    "    tol, minx, minf = 0.0, 0.0, 0.0\n",
    "\n",
    "    f0, gs_mol, _ = ci_func(x0, lmr_z, par_z, gb_mol, vcmax_z, cair, oair, rh_can, p, iv, c)\n",
    "\n",
    "    if f0 == 0.0:\n",
    "        return x0, gs_mol, iter\n",
    "\n",
    "    minx = x0\n",
    "    minf = f0\n",
    "    x1 = x0 * 0.99\n",
    "\n",
    "    f1, gs_mol, _ = ci_func(x1, lmr_z, par_z, gb_mol, vcmax_z, cair, oair, rh_can, p, iv, c)\n",
    "\n",
    "    if f1 == 0.0:\n",
    "        return x1, gs_mol, iter\n",
    "\n",
    "    if f1 < minf:\n",
    "        minx = x1\n",
    "        minf = f1\n",
    "\n",
    "    while True:\n",
    "        iter += 1\n",
    "        dx = -f1 * (x1 - x0) / (f1 - f0)\n",
    "        x = x1 + dx\n",
    "        tol = abs(x) * eps\n",
    "\n",
    "        if abs(dx) < tol:\n",
    "            return x, gs_mol, iter\n",
    "\n",
    "        x0 = x1\n",
    "        f0 = f1\n",
    "        x1 = x\n",
    "\n",
    "        f1, gs_mol, _ = ci_func(x1, lmr_z, par_z, gb_mol, vcmax_z, cair, oair, rh_can, p, iv, c)\n",
    "\n",
    "        if f1 < minf:\n",
    "            minx = x1\n",
    "            minf = f1\n",
    "\n",
    "        if abs(f1) <= eps1:\n",
    "            return x1, gs_mol, iter\n",
    "\n",
    "        if f1 * f0 < 0.0:\n",
    "            x, gs_mol = brent(\n",
    "                x0,\n",
    "                x1,\n",
    "                f0,\n",
    "                f1,\n",
    "                tol,\n",
    "                p,\n",
    "                iv,\n",
    "                c,\n",
    "                gb_mol,\n",
    "                vcmax_z,\n",
    "                cair,\n",
    "                oair,\n",
    "                lmr_z,\n",
    "                par_z,\n",
    "                rh_can,\n",
    "                gs_mol,\n",
    "            )\n",
    "            return x, gs_mol, iter\n",
    "\n",
    "        if iter > itmax:\n",
    "            f1, gs_mol, _ = ci_func(\n",
    "                minx, lmr_z, par_z, gb_mol, vcmax_z, cair, oair, rh_can, p, iv, c\n",
    "            )\n",
    "            break\n",
    "\n",
    "    return x0, gs_mol, iter\n",
    "\n",
    "\n",
    "def brent(\n",
    "    x1,\n",
    "    x2,\n",
    "    f1: float,\n",
    "    f2: float,\n",
    "    tol,\n",
    "    ip,\n",
    "    iv,\n",
    "    ic,\n",
    "    gb_mol,\n",
    "    vcmax_z,\n",
    "    cair,\n",
    "    oair,\n",
    "    lmr_z,\n",
    "    par_z,\n",
    "    rh_can,\n",
    "    gs_mol,\n",
    "):\n",
    "    itmax = 20\n",
    "    eps = 1e-2\n",
    "    iter = 0\n",
    "    a = x1\n",
    "    b = x2\n",
    "    fa = f1\n",
    "    fb = f2\n",
    "\n",
    "    if (fa > 0 and fb > 0) or (fa < 0 and fb < 0):\n",
    "        print(\"root must be bracketed for brent\")\n",
    "        raise ValueError(\"f(a) and f(b) must have opposite signs for Brent's method.\")\n",
    "\n",
    "    c = b\n",
    "    fc = fb\n",
    "\n",
    "    while iter != itmax:\n",
    "        iter += 1\n",
    "        if (fb > 0 and fc > 0) or (fb < 0 and fc < 0):\n",
    "            c = a\n",
    "            fc = fa\n",
    "            d = b - a\n",
    "            e = d\n",
    "\n",
    "        if abs(fc) < abs(fb):\n",
    "            a = b\n",
    "            b = c\n",
    "            c = a\n",
    "            fa = fb\n",
    "            fb = fc\n",
    "            fc = fa\n",
    "\n",
    "        tol1 = 2 * eps * abs(b) + 0.5 * tol\n",
    "        xm = 0.5 * (c - b)\n",
    "\n",
    "        if abs(xm) <= tol1 or fb == 0:\n",
    "            x = b\n",
    "            return x, gs_mol\n",
    "\n",
    "        if abs(e) >= tol1 and abs(fa) > abs(fb):\n",
    "            s = fb / fa\n",
    "\n",
    "            if a == c:\n",
    "                p = 2 * xm * s\n",
    "                q = 1 - s\n",
    "            else:\n",
    "                q = fa / fc\n",
    "                r = fb / fc\n",
    "                p = s * (2 * xm * q * (q - r) - (b - a) * (r - 1))\n",
    "                q = (q - 1) * (r - 1) * (s - 1)\n",
    "\n",
    "            if p > 0:\n",
    "                q = -q\n",
    "\n",
    "            p = abs(p)\n",
    "\n",
    "            if 2 * p < min(3 * xm * q - abs(tol1 * q), abs(e * q)):\n",
    "                e = d\n",
    "                d = p / q\n",
    "            else:\n",
    "                d = xm\n",
    "                e = d\n",
    "        else:\n",
    "            d = xm\n",
    "            e = d\n",
    "\n",
    "        a = b\n",
    "        fa = fb\n",
    "\n",
    "        if abs(d) > tol1:\n",
    "            b = b + d\n",
    "        else:\n",
    "            b = b + jnp.copysign(jnp.array([tol1]), jnp.array([xm]))[0]\n",
    "\n",
    "        fb, gs_mol, _ = ci_func(\n",
    "            b, lmr_z, par_z, gb_mol, vcmax_z, cair, oair, rh_can, ip, iv, ic\n",
    "        )\n",
    "\n",
    "        if fb == 0:\n",
    "            break\n",
    "\n",
    "    if iter == itmax:\n",
    "        print(\"brent exceeding maximum iterations\", b, fb)\n",
    "\n",
    "    x = b\n",
    "    return x, gs_mol\n",
    "\n",
    "\n",
    "def quadratic_roots(a, b, c):\n",
    "    sqrt_discriminant = jnp.sqrt(jnp.array([b**2 - 4 * a * c]))[0]\n",
    "    root1 = (-b - sqrt_discriminant) / (2 * a)\n",
    "    root2 = (-b + sqrt_discriminant) / (2 * a)\n",
    "    return root1, root2\n",
    "\n",
    "\n",
    "def ci_func(\n",
    "    ci,\n",
    "    lmr_z,\n",
    "    par_z,\n",
    "    gb_mol,\n",
    "    vcmax_z,\n",
    "    cair,\n",
    "    oair,\n",
    "    rh_can,\n",
    "    p,\n",
    "    iv,\n",
    "    c,\n",
    "    # vcmax_z,\n",
    "    c3flag=True,\n",
    "    stomatalcond_mtd=1,\n",
    "):\n",
    "    # Constants\n",
    "    forc_pbot = 121000.0\n",
    "    medlynslope = 6.0\n",
    "    medlynintercept = 10000.0\n",
    "    # vcmax_z = 62.5\n",
    "    cp = 4.275\n",
    "    kc = 40.49\n",
    "    ko = 27840.0\n",
    "    qe = 1.0\n",
    "    tpu_z = 31.5\n",
    "    kp_z = 1.0\n",
    "    bbb = 100.0\n",
    "    mbb = 9.0\n",
    "    theta_cj = 0.98\n",
    "    theta_ip = 0.95\n",
    "    stomatalcond_mtd_medlyn2011 = 1\n",
    "    stomatalcond_mtd_bb1987 = 2\n",
    "\n",
    "    # THIS ASSUMES FULL IRRADIANCE\n",
    "    je = vcmax_z * 1.67\n",
    "\n",
    "    # C3 or C4 photosynthesis\n",
    "    if c3flag:\n",
    "        ac = vcmax_z * max(ci - cp, 0.0) / (ci + kc * (1.0 + oair / ko))\n",
    "        aj = je * max(ci - cp, 0.0) / (4.0 * ci + 8.0 * cp)\n",
    "        ap = 3.0 * tpu_z\n",
    "    else:\n",
    "        ac = vcmax_z\n",
    "        aj = qe * par_z * 4.6\n",
    "        ap = kp_z * max(ci, 0.0) / forc_pbot\n",
    "\n",
    "    # Gross photosynthesis\n",
    "    aquad = theta_cj\n",
    "    bquad = -(ac + aj)\n",
    "    cquad = ac * aj\n",
    "    r1, r2 = quadratic_roots(aquad, bquad, cquad)\n",
    "    ai = min(r1, r2)\n",
    "\n",
    "    aquad = theta_ip\n",
    "    bquad = -(ai + ap)\n",
    "    cquad = ai * ap\n",
    "    r1, r2 = quadratic_roots(aquad, bquad, cquad)\n",
    "    ag = max(0.0, min(r1, r2))\n",
    "\n",
    "    # Net photosynthesis\n",
    "    an = ag - lmr_z\n",
    "    if an < 0.0:\n",
    "        # print(\"NEGATIVE PHOTOSYNTHESIS\")\n",
    "        fval = 0.0\n",
    "        return fval, None, None\n",
    "\n",
    "    # Quadratic gs_mol calculation\n",
    "    cs = cair - 1.4 / gb_mol * an * forc_pbot\n",
    "    if stomatalcond_mtd == stomatalcond_mtd_medlyn2011:\n",
    "        term = 1.6 * an / (cs / forc_pbot * 1.0e06)\n",
    "        aquad = 1.0\n",
    "        bquad = -(\n",
    "            2.0 * (medlynintercept * 1.0e-06 + term)\n",
    "            + (medlynslope * term) ** 2 / (gb_mol * 1.0e-06 * rh_can)\n",
    "        )\n",
    "        cquad = (\n",
    "            medlynintercept**2 * 1.0e-12\n",
    "            + (\n",
    "                2.0 * medlynintercept * 1.0e-06\n",
    "                + term * (1.0 - medlynslope**2 / rh_can)\n",
    "            )\n",
    "            * term\n",
    "        )\n",
    "        r1, r2 = quadratic_roots(aquad, bquad, cquad)\n",
    "        gs_mol = max(r1, r2) * 1.0e06\n",
    "    elif stomatalcond_mtd == stomatalcond_mtd_bb1987:\n",
    "        aquad = cs\n",
    "        bquad = cs * (gb_mol - bbb) - mbb * an * forc_pbot\n",
    "        cquad = -gb_mol * (cs * bbb + mbb * an * forc_pbot * rh_can)\n",
    "        r1, r2 = quadratic_roots(aquad, bquad, cquad)\n",
    "        gs_mol = max(r1, r2)\n",
    "    else:\n",
    "        gs_mol = 0.0\n",
    "\n",
    "    # Derive new estimate for ci\n",
    "    fval = ci - cair + an * forc_pbot * (1.4 / gb_mol + 1.6 / gs_mol)\n",
    "\n",
    "    return fval, gs_mol, an\n",
    "\n",
    "\n",
    "def main(\n",
    "    ci,\n",
    "    lmr_z,\n",
    "    par_z,\n",
    "    gb_mol,\n",
    "    vcmax_z,\n",
    "    cair,\n",
    "    oair,\n",
    "    rh_can,\n",
    "    p,\n",
    "    iv,\n",
    "    c,\n",
    "    c3flag=True,\n",
    "    stomatalcond_mtd=1,\n",
    "):\n",
    "    ci_val, gs_mol, _ = hybrid(\n",
    "        ci, lmr_z, par_z, gb_mol, vcmax_z, cair, oair, rh_can, p, iv, c\n",
    "    )\n",
    "\n",
    "    _, _, an = ci_func(ci_val, lmr_z, par_z, gb_mol, vcmax_z, cair, oair, rh_can, p, iv, c)\n",
    "\n",
    "    return ci_val, gs_mol, an\n"
   ]
  },
  {
   "cell_type": "code",
   "execution_count": 30,
   "metadata": {},
   "outputs": [
    {
     "name": "stdout",
     "output_type": "stream",
     "text": [
      "ci: 9.001625061035156, an: None, gs_mol: None\n",
      "ci: 12.426429748535156, an: None, gs_mol: None\n",
      "ci: 15.824407577514648, an: None, gs_mol: None\n",
      "ci: 20.630704879760742, an: 1.0712504386901855, gs_mol: 196266.921875\n",
      "ci: 23.493436813354492, an: 1.7123403549194336, gs_mol: 423752.3125\n",
      "ci: 26.622604370117188, an: 2.3365817070007324, gs_mol: 596450.4375\n",
      "ci: 29.371049880981445, an: 2.8212971687316895, gs_mol: 747000.5625\n",
      "ci: 32.78562927246094, an: 3.3456172943115234, gs_mol: 832002.5\n",
      "ci: 36.23044967651367, an: 3.7952938079833984, gs_mol: 805898.125\n",
      "ci: 39.80495071411133, an: 4.189207077026367, gs_mol: 807044.6875\n",
      "ci: 43.51923751831055, an: 4.533421516418457, gs_mol: 784019.0\n",
      "ci: 47.397647857666016, an: 4.835814476013184, gs_mol: 767206.4375\n",
      "ci: 51.3758659362793, an: 5.098016738891602, gs_mol: 728535.4375\n",
      "ci: 55.453006744384766, an: 5.326963424682617, gs_mol: 686195.0\n",
      "ci: 59.61299133300781, an: 5.527688026428223, gs_mol: 643196.5625\n",
      "ci: 63.842037200927734, an: 5.70454216003418, gs_mol: 601359.875\n",
      "ci: 68.1285171508789, an: 5.861181259155273, gs_mol: 561700.8125\n",
      "ci: 72.46283721923828, an: 6.000642776489258, gs_mol: 524710.25\n",
      "ci: 76.83719635009766, an: 6.125455856323242, gs_mol: 490552.1875\n",
      "        Photo          Ci\n",
      "4   -1.073840    8.290490\n",
      "3   -0.270512   10.415482\n",
      "2    1.168157   15.291130\n",
      "1    2.408846   20.809478\n",
      "5    3.897451   25.542697\n",
      "6    3.730751   26.110218\n",
      "0    3.596617   26.544115\n",
      "7    5.022318   31.273128\n",
      "8    5.947873   37.578785\n",
      "9    7.792886   49.889268\n",
      "10   8.535469   66.178642\n",
      "11   9.446583   81.235250\n",
      "12  10.260610   96.681272\n",
      "13  10.623799  113.791536\n",
      "14  10.749966  131.429576\n"
     ]
    },
    {
     "data": {
      "application/vnd.plotly.v1+json": {
       "config": {
        "plotlyServerURL": "https://plot.ly"
       },
       "data": [
        {
         "mode": "markers+lines",
         "type": "scatter",
         "x": [
          9.001625061035156,
          12.426429748535156,
          15.824407577514648,
          20.630704879760742,
          23.493436813354492,
          26.622604370117188,
          29.371049880981445,
          32.78562927246094,
          36.23044967651367,
          39.80495071411133,
          43.51923751831055,
          47.397647857666016,
          51.3758659362793,
          55.453006744384766,
          59.61299133300781,
          63.842037200927734,
          68.1285171508789,
          72.46283721923828,
          76.83719635009766
         ],
         "y": [
          null,
          null,
          null,
          1.0712504386901855,
          1.7123403549194336,
          2.3365817070007324,
          2.8212971687316895,
          3.3456172943115234,
          3.7952938079833984,
          4.189207077026367,
          4.533421516418457,
          4.835814476013184,
          5.098016738891602,
          5.326963424682617,
          5.527688026428223,
          5.70454216003418,
          5.861181259155273,
          6.000642776489258,
          6.125455856323242
         ]
        },
        {
         "text": "Measured",
         "type": "scatter",
         "x": [
          9.001625061035156,
          10.386024475097656,
          11.770423889160156,
          13.154823303222656,
          14.539222717285156,
          15.923622131347656,
          17.308021545410156,
          18.692420959472656,
          20.076820373535156,
          21.461219787597656,
          22.845619201660156,
          24.230018615722656,
          25.614418029785156,
          26.998817443847656,
          28.383216857910156,
          29.767616271972656,
          31.152015686035156,
          32.536415100097656,
          33.920814514160156,
          35.305213928222656,
          36.689613342285156,
          38.074012756347656,
          39.458412170410156,
          40.842811584472656,
          42.227210998535156,
          43.611610412597656,
          44.996009826660156,
          46.380409240722656,
          47.764808654785156,
          49.149208068847656,
          50.533607482910156,
          51.918006896972656,
          53.302406311035156,
          54.686805725097656,
          56.071205139160156,
          57.455604553222656,
          58.840003967285156,
          60.224403381347656,
          61.608802795410156,
          62.993202209472656,
          64.37760162353516,
          65.76200103759766,
          67.14640045166016,
          68.53079986572266,
          69.91519927978516,
          71.29959869384766,
          72.68399810791016,
          74.06839752197266,
          75.45279693603516,
          76.83719635009766
         ],
         "y": [
          -0.805003975513044,
          -0.28164821554209485,
          0.1292938830560365,
          0.5377920522777798,
          0.9462902214995232,
          1.3103604402240938,
          1.6216146174560713,
          1.9328687946880492,
          2.2441229719200266,
          2.6138200096588258,
          3.049215818887687,
          3.4846116281165473,
          3.8763842884410695,
          3.7337004388396338,
          4.151068587092563,
          4.568436735345494,
          4.985804883598424,
          5.207745107067704,
          5.410949578426441,
          5.614154049785179,
          5.817358521143915,
          6.022094076102936,
          6.229578661692644,
          6.437063247282353,
          6.644547832872062,
          6.8520324184617705,
          7.05951700405148,
          7.267001589641188,
          7.474486175230897,
          7.681970760820606,
          7.822259518383463,
          7.885370107254225,
          7.948480696124988,
          8.01159128499575,
          8.074701873866513,
          8.137812462737275,
          8.200923051608036,
          8.2640336404788,
          8.327144229349562,
          8.390254818220324,
          8.453365407091086,
          8.51647599596185,
          8.59403091814833,
          8.677804437648097,
          8.761577957147866,
          8.845351476647632,
          8.9291249961474,
          9.012898515647167,
          9.096672035146936,
          9.180445554646703
         ]
        }
       ],
       "layout": {
        "template": {
         "data": {
          "bar": [
           {
            "error_x": {
             "color": "#2a3f5f"
            },
            "error_y": {
             "color": "#2a3f5f"
            },
            "marker": {
             "line": {
              "color": "#E5ECF6",
              "width": 0.5
             },
             "pattern": {
              "fillmode": "overlay",
              "size": 10,
              "solidity": 0.2
             }
            },
            "type": "bar"
           }
          ],
          "barpolar": [
           {
            "marker": {
             "line": {
              "color": "#E5ECF6",
              "width": 0.5
             },
             "pattern": {
              "fillmode": "overlay",
              "size": 10,
              "solidity": 0.2
             }
            },
            "type": "barpolar"
           }
          ],
          "carpet": [
           {
            "aaxis": {
             "endlinecolor": "#2a3f5f",
             "gridcolor": "white",
             "linecolor": "white",
             "minorgridcolor": "white",
             "startlinecolor": "#2a3f5f"
            },
            "baxis": {
             "endlinecolor": "#2a3f5f",
             "gridcolor": "white",
             "linecolor": "white",
             "minorgridcolor": "white",
             "startlinecolor": "#2a3f5f"
            },
            "type": "carpet"
           }
          ],
          "choropleth": [
           {
            "colorbar": {
             "outlinewidth": 0,
             "ticks": ""
            },
            "type": "choropleth"
           }
          ],
          "contour": [
           {
            "colorbar": {
             "outlinewidth": 0,
             "ticks": ""
            },
            "colorscale": [
             [
              0,
              "#0d0887"
             ],
             [
              0.1111111111111111,
              "#46039f"
             ],
             [
              0.2222222222222222,
              "#7201a8"
             ],
             [
              0.3333333333333333,
              "#9c179e"
             ],
             [
              0.4444444444444444,
              "#bd3786"
             ],
             [
              0.5555555555555556,
              "#d8576b"
             ],
             [
              0.6666666666666666,
              "#ed7953"
             ],
             [
              0.7777777777777778,
              "#fb9f3a"
             ],
             [
              0.8888888888888888,
              "#fdca26"
             ],
             [
              1,
              "#f0f921"
             ]
            ],
            "type": "contour"
           }
          ],
          "contourcarpet": [
           {
            "colorbar": {
             "outlinewidth": 0,
             "ticks": ""
            },
            "type": "contourcarpet"
           }
          ],
          "heatmap": [
           {
            "colorbar": {
             "outlinewidth": 0,
             "ticks": ""
            },
            "colorscale": [
             [
              0,
              "#0d0887"
             ],
             [
              0.1111111111111111,
              "#46039f"
             ],
             [
              0.2222222222222222,
              "#7201a8"
             ],
             [
              0.3333333333333333,
              "#9c179e"
             ],
             [
              0.4444444444444444,
              "#bd3786"
             ],
             [
              0.5555555555555556,
              "#d8576b"
             ],
             [
              0.6666666666666666,
              "#ed7953"
             ],
             [
              0.7777777777777778,
              "#fb9f3a"
             ],
             [
              0.8888888888888888,
              "#fdca26"
             ],
             [
              1,
              "#f0f921"
             ]
            ],
            "type": "heatmap"
           }
          ],
          "heatmapgl": [
           {
            "colorbar": {
             "outlinewidth": 0,
             "ticks": ""
            },
            "colorscale": [
             [
              0,
              "#0d0887"
             ],
             [
              0.1111111111111111,
              "#46039f"
             ],
             [
              0.2222222222222222,
              "#7201a8"
             ],
             [
              0.3333333333333333,
              "#9c179e"
             ],
             [
              0.4444444444444444,
              "#bd3786"
             ],
             [
              0.5555555555555556,
              "#d8576b"
             ],
             [
              0.6666666666666666,
              "#ed7953"
             ],
             [
              0.7777777777777778,
              "#fb9f3a"
             ],
             [
              0.8888888888888888,
              "#fdca26"
             ],
             [
              1,
              "#f0f921"
             ]
            ],
            "type": "heatmapgl"
           }
          ],
          "histogram": [
           {
            "marker": {
             "pattern": {
              "fillmode": "overlay",
              "size": 10,
              "solidity": 0.2
             }
            },
            "type": "histogram"
           }
          ],
          "histogram2d": [
           {
            "colorbar": {
             "outlinewidth": 0,
             "ticks": ""
            },
            "colorscale": [
             [
              0,
              "#0d0887"
             ],
             [
              0.1111111111111111,
              "#46039f"
             ],
             [
              0.2222222222222222,
              "#7201a8"
             ],
             [
              0.3333333333333333,
              "#9c179e"
             ],
             [
              0.4444444444444444,
              "#bd3786"
             ],
             [
              0.5555555555555556,
              "#d8576b"
             ],
             [
              0.6666666666666666,
              "#ed7953"
             ],
             [
              0.7777777777777778,
              "#fb9f3a"
             ],
             [
              0.8888888888888888,
              "#fdca26"
             ],
             [
              1,
              "#f0f921"
             ]
            ],
            "type": "histogram2d"
           }
          ],
          "histogram2dcontour": [
           {
            "colorbar": {
             "outlinewidth": 0,
             "ticks": ""
            },
            "colorscale": [
             [
              0,
              "#0d0887"
             ],
             [
              0.1111111111111111,
              "#46039f"
             ],
             [
              0.2222222222222222,
              "#7201a8"
             ],
             [
              0.3333333333333333,
              "#9c179e"
             ],
             [
              0.4444444444444444,
              "#bd3786"
             ],
             [
              0.5555555555555556,
              "#d8576b"
             ],
             [
              0.6666666666666666,
              "#ed7953"
             ],
             [
              0.7777777777777778,
              "#fb9f3a"
             ],
             [
              0.8888888888888888,
              "#fdca26"
             ],
             [
              1,
              "#f0f921"
             ]
            ],
            "type": "histogram2dcontour"
           }
          ],
          "mesh3d": [
           {
            "colorbar": {
             "outlinewidth": 0,
             "ticks": ""
            },
            "type": "mesh3d"
           }
          ],
          "parcoords": [
           {
            "line": {
             "colorbar": {
              "outlinewidth": 0,
              "ticks": ""
             }
            },
            "type": "parcoords"
           }
          ],
          "pie": [
           {
            "automargin": true,
            "type": "pie"
           }
          ],
          "scatter": [
           {
            "fillpattern": {
             "fillmode": "overlay",
             "size": 10,
             "solidity": 0.2
            },
            "type": "scatter"
           }
          ],
          "scatter3d": [
           {
            "line": {
             "colorbar": {
              "outlinewidth": 0,
              "ticks": ""
             }
            },
            "marker": {
             "colorbar": {
              "outlinewidth": 0,
              "ticks": ""
             }
            },
            "type": "scatter3d"
           }
          ],
          "scattercarpet": [
           {
            "marker": {
             "colorbar": {
              "outlinewidth": 0,
              "ticks": ""
             }
            },
            "type": "scattercarpet"
           }
          ],
          "scattergeo": [
           {
            "marker": {
             "colorbar": {
              "outlinewidth": 0,
              "ticks": ""
             }
            },
            "type": "scattergeo"
           }
          ],
          "scattergl": [
           {
            "marker": {
             "colorbar": {
              "outlinewidth": 0,
              "ticks": ""
             }
            },
            "type": "scattergl"
           }
          ],
          "scattermapbox": [
           {
            "marker": {
             "colorbar": {
              "outlinewidth": 0,
              "ticks": ""
             }
            },
            "type": "scattermapbox"
           }
          ],
          "scatterpolar": [
           {
            "marker": {
             "colorbar": {
              "outlinewidth": 0,
              "ticks": ""
             }
            },
            "type": "scatterpolar"
           }
          ],
          "scatterpolargl": [
           {
            "marker": {
             "colorbar": {
              "outlinewidth": 0,
              "ticks": ""
             }
            },
            "type": "scatterpolargl"
           }
          ],
          "scatterternary": [
           {
            "marker": {
             "colorbar": {
              "outlinewidth": 0,
              "ticks": ""
             }
            },
            "type": "scatterternary"
           }
          ],
          "surface": [
           {
            "colorbar": {
             "outlinewidth": 0,
             "ticks": ""
            },
            "colorscale": [
             [
              0,
              "#0d0887"
             ],
             [
              0.1111111111111111,
              "#46039f"
             ],
             [
              0.2222222222222222,
              "#7201a8"
             ],
             [
              0.3333333333333333,
              "#9c179e"
             ],
             [
              0.4444444444444444,
              "#bd3786"
             ],
             [
              0.5555555555555556,
              "#d8576b"
             ],
             [
              0.6666666666666666,
              "#ed7953"
             ],
             [
              0.7777777777777778,
              "#fb9f3a"
             ],
             [
              0.8888888888888888,
              "#fdca26"
             ],
             [
              1,
              "#f0f921"
             ]
            ],
            "type": "surface"
           }
          ],
          "table": [
           {
            "cells": {
             "fill": {
              "color": "#EBF0F8"
             },
             "line": {
              "color": "white"
             }
            },
            "header": {
             "fill": {
              "color": "#C8D4E3"
             },
             "line": {
              "color": "white"
             }
            },
            "type": "table"
           }
          ]
         },
         "layout": {
          "annotationdefaults": {
           "arrowcolor": "#2a3f5f",
           "arrowhead": 0,
           "arrowwidth": 1
          },
          "autotypenumbers": "strict",
          "coloraxis": {
           "colorbar": {
            "outlinewidth": 0,
            "ticks": ""
           }
          },
          "colorscale": {
           "diverging": [
            [
             0,
             "#8e0152"
            ],
            [
             0.1,
             "#c51b7d"
            ],
            [
             0.2,
             "#de77ae"
            ],
            [
             0.3,
             "#f1b6da"
            ],
            [
             0.4,
             "#fde0ef"
            ],
            [
             0.5,
             "#f7f7f7"
            ],
            [
             0.6,
             "#e6f5d0"
            ],
            [
             0.7,
             "#b8e186"
            ],
            [
             0.8,
             "#7fbc41"
            ],
            [
             0.9,
             "#4d9221"
            ],
            [
             1,
             "#276419"
            ]
           ],
           "sequential": [
            [
             0,
             "#0d0887"
            ],
            [
             0.1111111111111111,
             "#46039f"
            ],
            [
             0.2222222222222222,
             "#7201a8"
            ],
            [
             0.3333333333333333,
             "#9c179e"
            ],
            [
             0.4444444444444444,
             "#bd3786"
            ],
            [
             0.5555555555555556,
             "#d8576b"
            ],
            [
             0.6666666666666666,
             "#ed7953"
            ],
            [
             0.7777777777777778,
             "#fb9f3a"
            ],
            [
             0.8888888888888888,
             "#fdca26"
            ],
            [
             1,
             "#f0f921"
            ]
           ],
           "sequentialminus": [
            [
             0,
             "#0d0887"
            ],
            [
             0.1111111111111111,
             "#46039f"
            ],
            [
             0.2222222222222222,
             "#7201a8"
            ],
            [
             0.3333333333333333,
             "#9c179e"
            ],
            [
             0.4444444444444444,
             "#bd3786"
            ],
            [
             0.5555555555555556,
             "#d8576b"
            ],
            [
             0.6666666666666666,
             "#ed7953"
            ],
            [
             0.7777777777777778,
             "#fb9f3a"
            ],
            [
             0.8888888888888888,
             "#fdca26"
            ],
            [
             1,
             "#f0f921"
            ]
           ]
          },
          "colorway": [
           "#636efa",
           "#EF553B",
           "#00cc96",
           "#ab63fa",
           "#FFA15A",
           "#19d3f3",
           "#FF6692",
           "#B6E880",
           "#FF97FF",
           "#FECB52"
          ],
          "font": {
           "color": "#2a3f5f"
          },
          "geo": {
           "bgcolor": "white",
           "lakecolor": "white",
           "landcolor": "#E5ECF6",
           "showlakes": true,
           "showland": true,
           "subunitcolor": "white"
          },
          "hoverlabel": {
           "align": "left"
          },
          "hovermode": "closest",
          "mapbox": {
           "style": "light"
          },
          "paper_bgcolor": "white",
          "plot_bgcolor": "#E5ECF6",
          "polar": {
           "angularaxis": {
            "gridcolor": "white",
            "linecolor": "white",
            "ticks": ""
           },
           "bgcolor": "#E5ECF6",
           "radialaxis": {
            "gridcolor": "white",
            "linecolor": "white",
            "ticks": ""
           }
          },
          "scene": {
           "xaxis": {
            "backgroundcolor": "#E5ECF6",
            "gridcolor": "white",
            "gridwidth": 2,
            "linecolor": "white",
            "showbackground": true,
            "ticks": "",
            "zerolinecolor": "white"
           },
           "yaxis": {
            "backgroundcolor": "#E5ECF6",
            "gridcolor": "white",
            "gridwidth": 2,
            "linecolor": "white",
            "showbackground": true,
            "ticks": "",
            "zerolinecolor": "white"
           },
           "zaxis": {
            "backgroundcolor": "#E5ECF6",
            "gridcolor": "white",
            "gridwidth": 2,
            "linecolor": "white",
            "showbackground": true,
            "ticks": "",
            "zerolinecolor": "white"
           }
          },
          "shapedefaults": {
           "line": {
            "color": "#2a3f5f"
           }
          },
          "ternary": {
           "aaxis": {
            "gridcolor": "white",
            "linecolor": "white",
            "ticks": ""
           },
           "baxis": {
            "gridcolor": "white",
            "linecolor": "white",
            "ticks": ""
           },
           "bgcolor": "#E5ECF6",
           "caxis": {
            "gridcolor": "white",
            "linecolor": "white",
            "ticks": ""
           }
          },
          "title": {
           "x": 0.05
          },
          "xaxis": {
           "automargin": true,
           "gridcolor": "white",
           "linecolor": "white",
           "ticks": "",
           "title": {
            "standoff": 15
           },
           "zerolinecolor": "white",
           "zerolinewidth": 2
          },
          "yaxis": {
           "automargin": true,
           "gridcolor": "white",
           "linecolor": "white",
           "ticks": "",
           "title": {
            "standoff": 15
           },
           "zerolinecolor": "white",
           "zerolinewidth": 2
          }
         }
        },
        "title": {
         "text": "An vs. Ci"
        },
        "xaxis": {
         "title": {
          "text": "Ci"
         }
        },
        "yaxis": {
         "title": {
          "text": "An"
         }
        }
       }
      }
     },
     "metadata": {},
     "output_type": "display_data"
    }
   ],
   "source": [
    "# Try graphing the relationship between An and Ci\n",
    "\n",
    "import plotly.graph_objects as go\n",
    "import pandas as pd\n",
    "\n",
    "ci = 35\n",
    "lmr_z = 4\n",
    "par_z = 500\n",
    "gb_mol = 50_000\n",
    "cair = 45\n",
    "oair = 21000\n",
    "rh_can = 0.40\n",
    "p = 1\n",
    "iv = 1\n",
    "c = 1\n",
    "\n",
    "vcmax_z = 30\n",
    "\n",
    "cair_values = np.linspace(10, 100, 19)\n",
    "ci_values = np.zeros_like(cair_values)\n",
    "an_values = np.zeros_like(cair_values)\n",
    "gs_mol_values = np.zeros_like(cair_values)\n",
    "\n",
    "for cair in cair_values:\n",
    "    ci_val, gs_mol, an = main(\n",
    "        ci, lmr_z, par_z, gb_mol, vcmax_z, cair, oair, rh_can, p, iv, c\n",
    "    )\n",
    "    ci_values[cair_values == cair] = ci_val\n",
    "    an_values[cair_values == cair] = an\n",
    "    gs_mol_values[cair_values == cair] = gs_mol\n",
    "    print(f\"ci: {ci_val}, an: {an}, gs_mol: {gs_mol}\")\n",
    "\n",
    "\n",
    "# Read in CSV values and create an interpolated function\n",
    "df = pd.read_csv(\"2021-07-15-Me2-05.csv\")\n",
    "new_df = df[[\"Photo\", \"Ci\"]].copy()\n",
    "new_df[\"Photo\"] = new_df[\"Photo\"] / 4\n",
    "new_df[\"Ci\"] = new_df[\"Ci\"] / 10\n",
    "# Sort by Ci\n",
    "new_df = new_df.sort_values(by=[\"Ci\"])\n",
    "\n",
    "print(new_df)\n",
    "\n",
    "# use scipy to interpolate\n",
    "from scipy.interpolate import interp1d\n",
    "f = interp1d(new_df[\"Ci\"], new_df[\"Photo\"], kind=\"linear\")\n",
    "\n",
    "\n",
    "# Graph predicted and measured values. \n",
    "fig = go.Figure(data=go.Scatter(x=ci_values, y=an_values, mode=\"markers+lines\"))\n",
    "x = np.linspace(ci_values[0], ci_values[-1], 50)\n",
    "y = f(x)\n",
    "fig.add_trace(go.Scatter(x=x, y=y, text=\"Measured\"))\n",
    "fig.update(\n",
    "    layout_title_text=\"An vs. Ci\",\n",
    "    layout_xaxis_title_text=\"Ci\",\n",
    "    layout_yaxis_title_text=\"An\",\n",
    ")\n",
    "fig.show()"
   ]
  },
  {
   "cell_type": "code",
   "execution_count": null,
   "metadata": {},
   "outputs": [],
   "source": []
  },
  {
   "cell_type": "code",
   "execution_count": null,
   "metadata": {},
   "outputs": [],
   "source": []
  }
 ],
 "metadata": {
  "kernelspec": {
   "display_name": "venv",
   "language": "python",
   "name": "python3"
  },
  "language_info": {
   "codemirror_mode": {
    "name": "ipython",
    "version": 3
   },
   "file_extension": ".py",
   "mimetype": "text/x-python",
   "name": "python",
   "nbconvert_exporter": "python",
   "pygments_lexer": "ipython3",
   "version": "3.10.6"
  },
  "orig_nbformat": 4
 },
 "nbformat": 4,
 "nbformat_minor": 2
}
