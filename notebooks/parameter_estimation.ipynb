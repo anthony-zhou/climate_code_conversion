{
 "cells": [
  {
   "attachments": {},
   "cell_type": "markdown",
   "metadata": {},
   "source": [
    "# Parameter estimation with Photosynthesis: Comparing Uniform Sampling and Gradient Descent"
   ]
  },
  {
   "attachments": {},
   "cell_type": "markdown",
   "metadata": {},
   "source": [
    "Our goal is to estimate values for the parameter Vcmax that will make the model match to observational data. The approach is as follows:\n",
    "\n",
    "1. Define a version of `ci_func` (the model) that takes Vcmax as input (and all other inputs as constants). Note that `Je` will be derived as `Je = Jmax = 1.67 * Vcmax`. \n",
    "2. Use random sampling to estimate values of Vcmax.\n",
    "3. Use gradient descent to estimate values of Vcmax. \n"
   ]
  },
  {
   "attachments": {},
   "cell_type": "markdown",
   "metadata": {},
   "source": [
    "## Defining the function"
   ]
  },
  {
   "attachments": {},
   "cell_type": "markdown",
   "metadata": {},
   "source": [
    "First, we need to rewrite `ci_func` such that `vcmax_z` is an input parameter. We had previously defined it as a constant within the function."
   ]
  },
  {
   "cell_type": "code",
   "execution_count": 203,
   "metadata": {},
   "outputs": [],
   "source": [
    "import math\n",
    "import numpy as np\n",
    "from jax import jit\n",
    "import jax.numpy as jnp\n",
    "\n",
    "\n",
    "\n",
    "def hybrid(x0, lmr_z, par_z, gb_mol, vcmax_z, cair, oair, rh_can, p, iv, c):\n",
    "    eps = 1e-2\n",
    "    eps1 = 1e-4\n",
    "    itmax = 40\n",
    "    iter = 0\n",
    "    tol, minx, minf = 0.0, 0.0, 0.0\n",
    "\n",
    "    f0, gs_mol, _ = ci_func(x0, lmr_z, par_z, gb_mol, vcmax_z, cair, oair, rh_can, p, iv, c)\n",
    "\n",
    "    if f0 == 0.0:\n",
    "        return x0, gs_mol, iter\n",
    "\n",
    "    minx = x0\n",
    "    minf = f0\n",
    "    x1 = x0 * 0.99\n",
    "\n",
    "    f1, gs_mol, _ = ci_func(x1, lmr_z, par_z, gb_mol, vcmax_z, cair, oair, rh_can, p, iv, c)\n",
    "\n",
    "    if f1 == 0.0:\n",
    "        return x1, gs_mol, iter\n",
    "\n",
    "    if f1 < minf:\n",
    "        minx = x1\n",
    "        minf = f1\n",
    "\n",
    "    while True:\n",
    "        iter += 1\n",
    "        dx = -f1 * (x1 - x0) / (f1 - f0)\n",
    "        x = x1 + dx\n",
    "        tol = abs(x) * eps\n",
    "\n",
    "        if abs(dx) < tol:\n",
    "            return x, gs_mol, iter\n",
    "\n",
    "        x0 = x1\n",
    "        f0 = f1\n",
    "        x1 = x\n",
    "\n",
    "        f1, gs_mol, _ = ci_func(x1, lmr_z, par_z, gb_mol, vcmax_z, cair, oair, rh_can, p, iv, c)\n",
    "\n",
    "        if f1 < minf:\n",
    "            minx = x1\n",
    "            minf = f1\n",
    "\n",
    "        if abs(f1) <= eps1:\n",
    "            return x1, gs_mol, iter\n",
    "\n",
    "        if f1 * f0 < 0.0:\n",
    "            x, gs_mol = brent(\n",
    "                x0,\n",
    "                x1,\n",
    "                f0,\n",
    "                f1,\n",
    "                tol,\n",
    "                p,\n",
    "                iv,\n",
    "                c,\n",
    "                gb_mol,\n",
    "                vcmax_z,\n",
    "                cair,\n",
    "                oair,\n",
    "                lmr_z,\n",
    "                par_z,\n",
    "                rh_can,\n",
    "                gs_mol,\n",
    "            )\n",
    "            return x, gs_mol, iter\n",
    "\n",
    "        if iter > itmax:\n",
    "            f1, gs_mol, _ = ci_func(\n",
    "                minx, lmr_z, par_z, gb_mol, vcmax_z, cair, oair, rh_can, p, iv, c\n",
    "            )\n",
    "            break\n",
    "\n",
    "    return x0, gs_mol, iter\n",
    "\n",
    "\n",
    "def brent(\n",
    "    x1,\n",
    "    x2,\n",
    "    f1: float,\n",
    "    f2: float,\n",
    "    tol,\n",
    "    ip,\n",
    "    iv,\n",
    "    ic,\n",
    "    gb_mol,\n",
    "    vcmax_z,\n",
    "    cair,\n",
    "    oair,\n",
    "    lmr_z,\n",
    "    par_z,\n",
    "    rh_can,\n",
    "    gs_mol,\n",
    "):\n",
    "    itmax = 20\n",
    "    eps = 1e-2\n",
    "    iter = 0\n",
    "    a = x1\n",
    "    b = x2\n",
    "    fa = f1\n",
    "    fb = f2\n",
    "\n",
    "    if (fa > 0 and fb > 0) or (fa < 0 and fb < 0):\n",
    "        print(\"root must be bracketed for brent\")\n",
    "        raise ValueError(\"f(a) and f(b) must have opposite signs for Brent's method.\")\n",
    "\n",
    "    c = b\n",
    "    fc = fb\n",
    "\n",
    "    while iter != itmax:\n",
    "        iter += 1\n",
    "        if (fb > 0 and fc > 0) or (fb < 0 and fc < 0):\n",
    "            c = a\n",
    "            fc = fa\n",
    "            d = b - a\n",
    "            e = d\n",
    "\n",
    "        if abs(fc) < abs(fb):\n",
    "            a = b\n",
    "            b = c\n",
    "            c = a\n",
    "            fa = fb\n",
    "            fb = fc\n",
    "            fc = fa\n",
    "\n",
    "        tol1 = 2 * eps * abs(b) + 0.5 * tol\n",
    "        xm = 0.5 * (c - b)\n",
    "\n",
    "        if abs(xm) <= tol1 or fb == 0:\n",
    "            x = b\n",
    "            return x, gs_mol\n",
    "\n",
    "        if abs(e) >= tol1 and abs(fa) > abs(fb):\n",
    "            s = fb / fa\n",
    "\n",
    "            if a == c:\n",
    "                p = 2 * xm * s\n",
    "                q = 1 - s\n",
    "            else:\n",
    "                q = fa / fc\n",
    "                r = fb / fc\n",
    "                p = s * (2 * xm * q * (q - r) - (b - a) * (r - 1))\n",
    "                q = (q - 1) * (r - 1) * (s - 1)\n",
    "\n",
    "            if p > 0:\n",
    "                q = -q\n",
    "\n",
    "            p = abs(p)\n",
    "\n",
    "            if 2 * p < min(3 * xm * q - abs(tol1 * q), abs(e * q)):\n",
    "                e = d\n",
    "                d = p / q\n",
    "            else:\n",
    "                d = xm\n",
    "                e = d\n",
    "        else:\n",
    "            d = xm\n",
    "            e = d\n",
    "\n",
    "        a = b\n",
    "        fa = fb\n",
    "\n",
    "        if abs(d) > tol1:\n",
    "            b = b + d\n",
    "        else:\n",
    "            b = b + jnp.copysign(jnp.array([tol1]), jnp.array([xm]))[0]\n",
    "\n",
    "        fb, gs_mol, _ = ci_func(\n",
    "            b, lmr_z, par_z, gb_mol, vcmax_z, cair, oair, rh_can, ip, iv, ic\n",
    "        )\n",
    "\n",
    "        if fb == 0:\n",
    "            break\n",
    "\n",
    "    if iter == itmax:\n",
    "        print(\"brent exceeding maximum iterations\", b, fb)\n",
    "\n",
    "    x = b\n",
    "    return x, gs_mol\n",
    "\n",
    "\n",
    "def quadratic_roots(a, b, c):\n",
    "    sqrt_discriminant = jnp.sqrt(jnp.array([b**2 - 4 * a * c]))[0]\n",
    "    root1 = (-b - sqrt_discriminant) / (2 * a)\n",
    "    root2 = (-b + sqrt_discriminant) / (2 * a)\n",
    "    return root1, root2\n",
    "\n",
    "\n",
    "def ci_func(\n",
    "    ci,\n",
    "    lmr_z,\n",
    "    par_z,\n",
    "    gb_mol,\n",
    "    vcmax_z,\n",
    "    cair,\n",
    "    oair,\n",
    "    rh_can,\n",
    "    p,\n",
    "    iv,\n",
    "    c,\n",
    "    # vcmax_z,\n",
    "    c3flag=True,\n",
    "    stomatalcond_mtd=1,\n",
    "):\n",
    "    # Constants\n",
    "    forc_pbot = 121000.0\n",
    "    medlynslope = 6.0\n",
    "    medlynintercept = 10000.0\n",
    "    # vcmax_z = 62.5\n",
    "    cp = 4.275\n",
    "    kc = 40.49\n",
    "    ko = 27840.0\n",
    "    qe = 1.0\n",
    "    tpu_z = 31.5\n",
    "    kp_z = 1.0\n",
    "    bbb = 100.0\n",
    "    mbb = 9.0\n",
    "    theta_cj = 0.98\n",
    "    theta_ip = 0.95\n",
    "    stomatalcond_mtd_medlyn2011 = 1\n",
    "    stomatalcond_mtd_bb1987 = 2\n",
    "\n",
    "    # THIS ASSUMES FULL IRRADIANCE\n",
    "    je = vcmax_z * 1.67\n",
    "\n",
    "    # C3 or C4 photosynthesis\n",
    "    if c3flag:\n",
    "        ac = vcmax_z * max(ci - cp, 0.0) / (ci + kc * (1.0 + oair / ko))\n",
    "        aj = je * max(ci - cp, 0.0) / (4.0 * ci + 8.0 * cp)\n",
    "        ap = 3.0 * tpu_z\n",
    "    else:\n",
    "        ac = vcmax_z\n",
    "        aj = qe * par_z * 4.6\n",
    "        ap = kp_z * max(ci, 0.0) / forc_pbot\n",
    "\n",
    "    # Gross photosynthesis\n",
    "    aquad = theta_cj\n",
    "    bquad = -(ac + aj)\n",
    "    cquad = ac * aj\n",
    "    r1, r2 = quadratic_roots(aquad, bquad, cquad)\n",
    "    ai = min(r1, r2)\n",
    "\n",
    "    aquad = theta_ip\n",
    "    bquad = -(ai + ap)\n",
    "    cquad = ai * ap\n",
    "    r1, r2 = quadratic_roots(aquad, bquad, cquad)\n",
    "    ag = max(0.0, min(r1, r2))\n",
    "\n",
    "    # Net photosynthesis\n",
    "    an = ag - lmr_z\n",
    "\n",
    "    # [Anthony] Note that I've removed the line in the original code that checks for negative net photosynthesis.\n",
    "    # if an < 0.0:\n",
    "    #     # print(\"NEGATIVE PHOTOSYNTHESIS\")\n",
    "    #     fval = 0.0\n",
    "    #     return fval, None, None\n",
    "\n",
    "    # Quadratic gs_mol calculation\n",
    "    cs = cair - 1.4 / gb_mol * an * forc_pbot\n",
    "    if stomatalcond_mtd == stomatalcond_mtd_medlyn2011:\n",
    "        term = 1.6 * an / (cs / forc_pbot * 1.0e06)\n",
    "        aquad = 1.0\n",
    "        bquad = -(\n",
    "            2.0 * (medlynintercept * 1.0e-06 + term)\n",
    "            + (medlynslope * term) ** 2 / (gb_mol * 1.0e-06 * rh_can)\n",
    "        )\n",
    "        cquad = (\n",
    "            medlynintercept**2 * 1.0e-12\n",
    "            + (\n",
    "                2.0 * medlynintercept * 1.0e-06\n",
    "                + term * (1.0 - medlynslope**2 / rh_can)\n",
    "            )\n",
    "            * term\n",
    "        )\n",
    "        r1, r2 = quadratic_roots(aquad, bquad, cquad)\n",
    "        gs_mol = max(r1, r2) * 1.0e06\n",
    "    elif stomatalcond_mtd == stomatalcond_mtd_bb1987:\n",
    "        aquad = cs\n",
    "        bquad = cs * (gb_mol - bbb) - mbb * an * forc_pbot\n",
    "        cquad = -gb_mol * (cs * bbb + mbb * an * forc_pbot * rh_can)\n",
    "        r1, r2 = quadratic_roots(aquad, bquad, cquad)\n",
    "        gs_mol = max(r1, r2)\n",
    "    else:\n",
    "        gs_mol = 0.0\n",
    "\n",
    "    # Derive new estimate for ci\n",
    "    fval = ci - cair + an * forc_pbot * (1.4 / gb_mol + 1.6 / gs_mol)\n",
    "\n",
    "    return fval, gs_mol, an\n",
    "\n",
    "\n",
    "def main(\n",
    "    ci,\n",
    "    lmr_z,\n",
    "    par_z,\n",
    "    gb_mol,\n",
    "    vcmax_z,\n",
    "    cair,\n",
    "    oair,\n",
    "    rh_can,\n",
    "    p,\n",
    "    iv,\n",
    "    c,\n",
    "    c3flag=True,\n",
    "    stomatalcond_mtd=1,\n",
    "):\n",
    "    ci_val, gs_mol, _ = hybrid(\n",
    "        ci, lmr_z, par_z, gb_mol, vcmax_z, cair, oair, rh_can, p, iv, c\n",
    "    )\n",
    "\n",
    "    _, _, an = ci_func(ci_val, lmr_z, par_z, gb_mol, vcmax_z, cair, oair, rh_can, p, iv, c)\n",
    "\n",
    "    return ci_val, gs_mol, an\n"
   ]
  },
  {
   "attachments": {},
   "cell_type": "markdown",
   "metadata": {},
   "source": [
    "## Visualizing the task"
   ]
  },
  {
   "attachments": {},
   "cell_type": "markdown",
   "metadata": {},
   "source": [
    "Our goal here is to find a value of `vcmax_z` such that the model's photosynthesis curve matches the observed data. To visualize this comparison, we need to graph the model's predictions together with an interpolated version of the observed data. "
   ]
  },
  {
   "cell_type": "code",
   "execution_count": 241,
   "metadata": {},
   "outputs": [],
   "source": [
    "import plotly.graph_objects as go\n",
    "import pandas as pd\n",
    "\n",
    "def get_model_values(cair_values: np.ndarray, vcmax_z: float):\n",
    "    ci_values = np.zeros_like(cair_values)\n",
    "    an_values = np.zeros_like(cair_values)\n",
    "    gs_mol_values = np.zeros_like(cair_values)\n",
    "\n",
    "    ci = 35\n",
    "    lmr_z = 4\n",
    "    par_z = 500\n",
    "    gb_mol = 50_000\n",
    "    cair = 45\n",
    "    oair = 21000\n",
    "    rh_can = 0.40\n",
    "    p = 1\n",
    "    iv = 1\n",
    "    c = 1\n",
    "\n",
    "\n",
    "    outputs = [main(ci, lmr_z, par_z, gb_mol, vcmax_z, cair, oair, rh_can, p, iv, c) for cair in cair_values]\n",
    "    ci_values = [output[0] for output in outputs]\n",
    "    an_values = [output[2] for output in outputs]\n",
    "    gs_mol_values = [output[1] for output in outputs]\n",
    "\n",
    "    return {\n",
    "        \"cair\": cair_values,\n",
    "        \"ci\": jnp.array(ci_values),\n",
    "        \"an\": jnp.array(an_values),\n",
    "        \"gs_mol\": jnp.array(gs_mol_values),\n",
    "    }\n",
    "\n",
    "\n",
    "def get_observed_values(filename: str):\n",
    "    df = pd.read_csv(filename)\n",
    "    new_df = df[[\"Photo\", \"Ci\"]].copy()\n",
    "    new_df[\"Photo\"] = new_df[\"Photo\"] / 4\n",
    "    new_df[\"Ci\"] = new_df[\"Ci\"] / 10\n",
    "    new_df = new_df.sort_values(by=[\"Ci\"])\n",
    "    new_df = new_df.rename(columns={\"Photo\": \"an\", \"Ci\": \"ci\"})\n",
    "    return {\n",
    "        'ci': jnp.array(new_df['ci'].values),\n",
    "        'an': jnp.array(new_df['an'].values),\n",
    "    }\n",
    "\n",
    "\n",
    "\n",
    "def linear_interp_with_extrapolation(x, y, x_new):\n",
    "    \"\"\"\n",
    "    This is a custom version of linear interpolation that's good for JAX.\n",
    "    Scipy and Numpy's interpolation functions won't work out-of-the-box with autodiff.\n",
    "    \"\"\"\n",
    "    x_min = jnp.min(x)\n",
    "    x_max = jnp.max(x)\n",
    "    i = jnp.searchsorted(x, x_new) - 1\n",
    "    i = jnp.clip(i, 0, len(x) - 2) \n",
    "    y_lo = y[i]\n",
    "    y_hi = y[i+1]\n",
    "    x_lo = x[i]\n",
    "    x_hi = x[i+1]\n",
    "\n",
    "    y_new = y_lo + (x_new - x_lo) * (y_hi - y_lo) / (x_hi - x_lo)\n",
    "\n",
    "    # Extrapolate using a constant if needed\n",
    "    y_new = jnp.where(x_new < x_min, y[0], y_new)  \n",
    "    y_new = jnp.where(x_new > x_max, y[-1], y_new) \n",
    "\n",
    "    return y_new\n"
   ]
  },
  {
   "attachments": {},
   "cell_type": "markdown",
   "metadata": {},
   "source": [
    "Let's choose an arbitrary Vcmax value and graph the model results with the observed results."
   ]
  },
  {
   "cell_type": "code",
   "execution_count": 243,
   "metadata": {},
   "outputs": [
    {
     "data": {
      "application/vnd.plotly.v1+json": {
       "config": {
        "plotlyServerURL": "https://plot.ly"
       },
       "data": [
        {
         "mode": "markers+lines",
         "name": "Predicted",
         "type": "scatter",
         "x": [
          13.4378013561408,
          15.984670069805702,
          17.775727263798647,
          20.63070584987953,
          23.493434012162172,
          26.622617721150082,
          29.371079632476224,
          32.7856356691938,
          36.23045248869036,
          39.80494342812517,
          43.519250487559454,
          47.39764095703733,
          51.37586335630255,
          55.453006915277214,
          59.613012236450835,
          63.842041556047114,
          68.1285064708834,
          72.4628405591899,
          76.83719525533252
         ],
         "y": [
          -0.8479161742049062,
          -0.11649846653878759,
          0.36338531036641175,
          1.0712482802617993,
          1.712339937494015,
          2.336584934321964,
          2.8213037926721443,
          3.3456150521530024,
          3.795292314864909,
          4.189205721933595,
          4.533426403250905,
          4.835816594489545,
          5.098016206658091,
          5.326966764390004,
          5.527693177008416,
          5.704543395817204,
          5.861178907761735,
          6.000643519081507,
          6.12545585098335
         ]
        },
        {
         "name": "Measured",
         "type": "scatter",
         "x": [
          13.4378013561408,
          14.731666537756958,
          16.025531719373117,
          17.319396900989272,
          18.61326208260543,
          19.907127264221586,
          21.200992445837745,
          22.494857627453904,
          23.78872280907006,
          25.082587990686218,
          26.376453172302377,
          27.670318353918532,
          28.96418353553469,
          30.25804871715085,
          31.551913898767005,
          32.84577908038316,
          34.13964426199932,
          35.43350944361548,
          36.72737462523163,
          38.021239806847795,
          39.31510498846395,
          40.608970170080106,
          41.90283535169627,
          43.19670053331242,
          44.49056571492858,
          45.78443089654474,
          47.078296078160896,
          48.37216125977705,
          49.666026441393214,
          50.95989162300937,
          52.253756804625525,
          53.54762198624169,
          54.84148716785784,
          56.135352349474,
          57.42921753109016,
          58.723082712706315,
          60.01694789432247,
          61.31081307593863,
          62.60467825755479,
          63.89854343917094,
          65.19240862078709,
          66.48627380240326,
          67.78013898401942,
          69.07400416563557,
          70.36786934725173,
          71.66173452886788,
          72.95559971048404,
          74.2494648921002,
          75.54333007371636,
          76.83719525533252
         ],
         "y": [
          0.6212910883022035,
          1.0030750969785442,
          1.3332727476483168,
          1.6241721358322956,
          1.915071524016275,
          2.2059709122002538,
          2.531978098359146,
          2.938900748037024,
          3.3458233977149012,
          3.7527460473927796,
          3.64844770484724,
          3.936144248436469,
          4.3262181746853985,
          4.716292100934329,
          5.0632383670790055,
          5.253154071729772,
          5.443069776380538,
          5.632985481031304,
          5.8229011856820705,
          6.01418481707978,
          6.208100733461742,
          6.402016649843704,
          6.595932566225668,
          6.7898484826076295,
          6.983764398989592,
          7.177680315371555,
          7.371596231753518,
          7.56551214813548,
          7.759428064517444,
          7.841692525097169,
          7.900675931693357,
          7.959659338289543,
          8.018642744885732,
          8.077626151481917,
          8.136609558078105,
          8.195592964674292,
          8.25457637127048,
          8.313559777866667,
          8.372543184462852,
          8.43152659105904,
          8.490509997655227,
          8.55408498046438,
          8.632380043956292,
          8.710675107448207,
          8.78897017094012,
          8.867265234432033,
          8.945560297923947,
          9.02385536141586,
          9.102150424907775,
          9.180445488399688
         ]
        }
       ],
       "layout": {
        "template": {
         "data": {
          "bar": [
           {
            "error_x": {
             "color": "#2a3f5f"
            },
            "error_y": {
             "color": "#2a3f5f"
            },
            "marker": {
             "line": {
              "color": "#E5ECF6",
              "width": 0.5
             },
             "pattern": {
              "fillmode": "overlay",
              "size": 10,
              "solidity": 0.2
             }
            },
            "type": "bar"
           }
          ],
          "barpolar": [
           {
            "marker": {
             "line": {
              "color": "#E5ECF6",
              "width": 0.5
             },
             "pattern": {
              "fillmode": "overlay",
              "size": 10,
              "solidity": 0.2
             }
            },
            "type": "barpolar"
           }
          ],
          "carpet": [
           {
            "aaxis": {
             "endlinecolor": "#2a3f5f",
             "gridcolor": "white",
             "linecolor": "white",
             "minorgridcolor": "white",
             "startlinecolor": "#2a3f5f"
            },
            "baxis": {
             "endlinecolor": "#2a3f5f",
             "gridcolor": "white",
             "linecolor": "white",
             "minorgridcolor": "white",
             "startlinecolor": "#2a3f5f"
            },
            "type": "carpet"
           }
          ],
          "choropleth": [
           {
            "colorbar": {
             "outlinewidth": 0,
             "ticks": ""
            },
            "type": "choropleth"
           }
          ],
          "contour": [
           {
            "colorbar": {
             "outlinewidth": 0,
             "ticks": ""
            },
            "colorscale": [
             [
              0,
              "#0d0887"
             ],
             [
              0.1111111111111111,
              "#46039f"
             ],
             [
              0.2222222222222222,
              "#7201a8"
             ],
             [
              0.3333333333333333,
              "#9c179e"
             ],
             [
              0.4444444444444444,
              "#bd3786"
             ],
             [
              0.5555555555555556,
              "#d8576b"
             ],
             [
              0.6666666666666666,
              "#ed7953"
             ],
             [
              0.7777777777777778,
              "#fb9f3a"
             ],
             [
              0.8888888888888888,
              "#fdca26"
             ],
             [
              1,
              "#f0f921"
             ]
            ],
            "type": "contour"
           }
          ],
          "contourcarpet": [
           {
            "colorbar": {
             "outlinewidth": 0,
             "ticks": ""
            },
            "type": "contourcarpet"
           }
          ],
          "heatmap": [
           {
            "colorbar": {
             "outlinewidth": 0,
             "ticks": ""
            },
            "colorscale": [
             [
              0,
              "#0d0887"
             ],
             [
              0.1111111111111111,
              "#46039f"
             ],
             [
              0.2222222222222222,
              "#7201a8"
             ],
             [
              0.3333333333333333,
              "#9c179e"
             ],
             [
              0.4444444444444444,
              "#bd3786"
             ],
             [
              0.5555555555555556,
              "#d8576b"
             ],
             [
              0.6666666666666666,
              "#ed7953"
             ],
             [
              0.7777777777777778,
              "#fb9f3a"
             ],
             [
              0.8888888888888888,
              "#fdca26"
             ],
             [
              1,
              "#f0f921"
             ]
            ],
            "type": "heatmap"
           }
          ],
          "heatmapgl": [
           {
            "colorbar": {
             "outlinewidth": 0,
             "ticks": ""
            },
            "colorscale": [
             [
              0,
              "#0d0887"
             ],
             [
              0.1111111111111111,
              "#46039f"
             ],
             [
              0.2222222222222222,
              "#7201a8"
             ],
             [
              0.3333333333333333,
              "#9c179e"
             ],
             [
              0.4444444444444444,
              "#bd3786"
             ],
             [
              0.5555555555555556,
              "#d8576b"
             ],
             [
              0.6666666666666666,
              "#ed7953"
             ],
             [
              0.7777777777777778,
              "#fb9f3a"
             ],
             [
              0.8888888888888888,
              "#fdca26"
             ],
             [
              1,
              "#f0f921"
             ]
            ],
            "type": "heatmapgl"
           }
          ],
          "histogram": [
           {
            "marker": {
             "pattern": {
              "fillmode": "overlay",
              "size": 10,
              "solidity": 0.2
             }
            },
            "type": "histogram"
           }
          ],
          "histogram2d": [
           {
            "colorbar": {
             "outlinewidth": 0,
             "ticks": ""
            },
            "colorscale": [
             [
              0,
              "#0d0887"
             ],
             [
              0.1111111111111111,
              "#46039f"
             ],
             [
              0.2222222222222222,
              "#7201a8"
             ],
             [
              0.3333333333333333,
              "#9c179e"
             ],
             [
              0.4444444444444444,
              "#bd3786"
             ],
             [
              0.5555555555555556,
              "#d8576b"
             ],
             [
              0.6666666666666666,
              "#ed7953"
             ],
             [
              0.7777777777777778,
              "#fb9f3a"
             ],
             [
              0.8888888888888888,
              "#fdca26"
             ],
             [
              1,
              "#f0f921"
             ]
            ],
            "type": "histogram2d"
           }
          ],
          "histogram2dcontour": [
           {
            "colorbar": {
             "outlinewidth": 0,
             "ticks": ""
            },
            "colorscale": [
             [
              0,
              "#0d0887"
             ],
             [
              0.1111111111111111,
              "#46039f"
             ],
             [
              0.2222222222222222,
              "#7201a8"
             ],
             [
              0.3333333333333333,
              "#9c179e"
             ],
             [
              0.4444444444444444,
              "#bd3786"
             ],
             [
              0.5555555555555556,
              "#d8576b"
             ],
             [
              0.6666666666666666,
              "#ed7953"
             ],
             [
              0.7777777777777778,
              "#fb9f3a"
             ],
             [
              0.8888888888888888,
              "#fdca26"
             ],
             [
              1,
              "#f0f921"
             ]
            ],
            "type": "histogram2dcontour"
           }
          ],
          "mesh3d": [
           {
            "colorbar": {
             "outlinewidth": 0,
             "ticks": ""
            },
            "type": "mesh3d"
           }
          ],
          "parcoords": [
           {
            "line": {
             "colorbar": {
              "outlinewidth": 0,
              "ticks": ""
             }
            },
            "type": "parcoords"
           }
          ],
          "pie": [
           {
            "automargin": true,
            "type": "pie"
           }
          ],
          "scatter": [
           {
            "fillpattern": {
             "fillmode": "overlay",
             "size": 10,
             "solidity": 0.2
            },
            "type": "scatter"
           }
          ],
          "scatter3d": [
           {
            "line": {
             "colorbar": {
              "outlinewidth": 0,
              "ticks": ""
             }
            },
            "marker": {
             "colorbar": {
              "outlinewidth": 0,
              "ticks": ""
             }
            },
            "type": "scatter3d"
           }
          ],
          "scattercarpet": [
           {
            "marker": {
             "colorbar": {
              "outlinewidth": 0,
              "ticks": ""
             }
            },
            "type": "scattercarpet"
           }
          ],
          "scattergeo": [
           {
            "marker": {
             "colorbar": {
              "outlinewidth": 0,
              "ticks": ""
             }
            },
            "type": "scattergeo"
           }
          ],
          "scattergl": [
           {
            "marker": {
             "colorbar": {
              "outlinewidth": 0,
              "ticks": ""
             }
            },
            "type": "scattergl"
           }
          ],
          "scattermapbox": [
           {
            "marker": {
             "colorbar": {
              "outlinewidth": 0,
              "ticks": ""
             }
            },
            "type": "scattermapbox"
           }
          ],
          "scatterpolar": [
           {
            "marker": {
             "colorbar": {
              "outlinewidth": 0,
              "ticks": ""
             }
            },
            "type": "scatterpolar"
           }
          ],
          "scatterpolargl": [
           {
            "marker": {
             "colorbar": {
              "outlinewidth": 0,
              "ticks": ""
             }
            },
            "type": "scatterpolargl"
           }
          ],
          "scatterternary": [
           {
            "marker": {
             "colorbar": {
              "outlinewidth": 0,
              "ticks": ""
             }
            },
            "type": "scatterternary"
           }
          ],
          "surface": [
           {
            "colorbar": {
             "outlinewidth": 0,
             "ticks": ""
            },
            "colorscale": [
             [
              0,
              "#0d0887"
             ],
             [
              0.1111111111111111,
              "#46039f"
             ],
             [
              0.2222222222222222,
              "#7201a8"
             ],
             [
              0.3333333333333333,
              "#9c179e"
             ],
             [
              0.4444444444444444,
              "#bd3786"
             ],
             [
              0.5555555555555556,
              "#d8576b"
             ],
             [
              0.6666666666666666,
              "#ed7953"
             ],
             [
              0.7777777777777778,
              "#fb9f3a"
             ],
             [
              0.8888888888888888,
              "#fdca26"
             ],
             [
              1,
              "#f0f921"
             ]
            ],
            "type": "surface"
           }
          ],
          "table": [
           {
            "cells": {
             "fill": {
              "color": "#EBF0F8"
             },
             "line": {
              "color": "white"
             }
            },
            "header": {
             "fill": {
              "color": "#C8D4E3"
             },
             "line": {
              "color": "white"
             }
            },
            "type": "table"
           }
          ]
         },
         "layout": {
          "annotationdefaults": {
           "arrowcolor": "#2a3f5f",
           "arrowhead": 0,
           "arrowwidth": 1
          },
          "autotypenumbers": "strict",
          "coloraxis": {
           "colorbar": {
            "outlinewidth": 0,
            "ticks": ""
           }
          },
          "colorscale": {
           "diverging": [
            [
             0,
             "#8e0152"
            ],
            [
             0.1,
             "#c51b7d"
            ],
            [
             0.2,
             "#de77ae"
            ],
            [
             0.3,
             "#f1b6da"
            ],
            [
             0.4,
             "#fde0ef"
            ],
            [
             0.5,
             "#f7f7f7"
            ],
            [
             0.6,
             "#e6f5d0"
            ],
            [
             0.7,
             "#b8e186"
            ],
            [
             0.8,
             "#7fbc41"
            ],
            [
             0.9,
             "#4d9221"
            ],
            [
             1,
             "#276419"
            ]
           ],
           "sequential": [
            [
             0,
             "#0d0887"
            ],
            [
             0.1111111111111111,
             "#46039f"
            ],
            [
             0.2222222222222222,
             "#7201a8"
            ],
            [
             0.3333333333333333,
             "#9c179e"
            ],
            [
             0.4444444444444444,
             "#bd3786"
            ],
            [
             0.5555555555555556,
             "#d8576b"
            ],
            [
             0.6666666666666666,
             "#ed7953"
            ],
            [
             0.7777777777777778,
             "#fb9f3a"
            ],
            [
             0.8888888888888888,
             "#fdca26"
            ],
            [
             1,
             "#f0f921"
            ]
           ],
           "sequentialminus": [
            [
             0,
             "#0d0887"
            ],
            [
             0.1111111111111111,
             "#46039f"
            ],
            [
             0.2222222222222222,
             "#7201a8"
            ],
            [
             0.3333333333333333,
             "#9c179e"
            ],
            [
             0.4444444444444444,
             "#bd3786"
            ],
            [
             0.5555555555555556,
             "#d8576b"
            ],
            [
             0.6666666666666666,
             "#ed7953"
            ],
            [
             0.7777777777777778,
             "#fb9f3a"
            ],
            [
             0.8888888888888888,
             "#fdca26"
            ],
            [
             1,
             "#f0f921"
            ]
           ]
          },
          "colorway": [
           "#636efa",
           "#EF553B",
           "#00cc96",
           "#ab63fa",
           "#FFA15A",
           "#19d3f3",
           "#FF6692",
           "#B6E880",
           "#FF97FF",
           "#FECB52"
          ],
          "font": {
           "color": "#2a3f5f"
          },
          "geo": {
           "bgcolor": "white",
           "lakecolor": "white",
           "landcolor": "#E5ECF6",
           "showlakes": true,
           "showland": true,
           "subunitcolor": "white"
          },
          "hoverlabel": {
           "align": "left"
          },
          "hovermode": "closest",
          "mapbox": {
           "style": "light"
          },
          "paper_bgcolor": "white",
          "plot_bgcolor": "#E5ECF6",
          "polar": {
           "angularaxis": {
            "gridcolor": "white",
            "linecolor": "white",
            "ticks": ""
           },
           "bgcolor": "#E5ECF6",
           "radialaxis": {
            "gridcolor": "white",
            "linecolor": "white",
            "ticks": ""
           }
          },
          "scene": {
           "xaxis": {
            "backgroundcolor": "#E5ECF6",
            "gridcolor": "white",
            "gridwidth": 2,
            "linecolor": "white",
            "showbackground": true,
            "ticks": "",
            "zerolinecolor": "white"
           },
           "yaxis": {
            "backgroundcolor": "#E5ECF6",
            "gridcolor": "white",
            "gridwidth": 2,
            "linecolor": "white",
            "showbackground": true,
            "ticks": "",
            "zerolinecolor": "white"
           },
           "zaxis": {
            "backgroundcolor": "#E5ECF6",
            "gridcolor": "white",
            "gridwidth": 2,
            "linecolor": "white",
            "showbackground": true,
            "ticks": "",
            "zerolinecolor": "white"
           }
          },
          "shapedefaults": {
           "line": {
            "color": "#2a3f5f"
           }
          },
          "ternary": {
           "aaxis": {
            "gridcolor": "white",
            "linecolor": "white",
            "ticks": ""
           },
           "baxis": {
            "gridcolor": "white",
            "linecolor": "white",
            "ticks": ""
           },
           "bgcolor": "#E5ECF6",
           "caxis": {
            "gridcolor": "white",
            "linecolor": "white",
            "ticks": ""
           }
          },
          "title": {
           "x": 0.05
          },
          "xaxis": {
           "automargin": true,
           "gridcolor": "white",
           "linecolor": "white",
           "ticks": "",
           "title": {
            "standoff": 15
           },
           "zerolinecolor": "white",
           "zerolinewidth": 2
          },
          "yaxis": {
           "automargin": true,
           "gridcolor": "white",
           "linecolor": "white",
           "ticks": "",
           "title": {
            "standoff": 15
           },
           "zerolinecolor": "white",
           "zerolinewidth": 2
          }
         }
        },
        "title": {
         "text": "An vs. Ci"
        },
        "xaxis": {
         "title": {
          "text": "Ci"
         }
        },
        "yaxis": {
         "title": {
          "text": "An"
         }
        }
       }
      }
     },
     "metadata": {},
     "output_type": "display_data"
    }
   ],
   "source": [
    "vcmax_z = 30\n",
    "cair_values = np.linspace(10, 100, 19)\n",
    "model_values = get_model_values(cair_values, vcmax_z)\n",
    "\n",
    "observed_values = get_observed_values(\"2021-07-15-Me2-05.csv\")\n",
    "\n",
    "\n",
    "x = np.linspace(model_values['ci'][0], model_values['ci'][-1], 50)\n",
    "y = linear_interp_with_extrapolation(observed_values['ci'], observed_values['an'], x)\n",
    "\n",
    "# Graph predicted and measured values. \n",
    "fig = go.Figure(data=go.Scatter(x=model_values['ci'], y=model_values['an'], mode=\"markers+lines\", name=\"Predicted\"))\n",
    "fig.add_trace(go.Scatter(x=x, y=y, name=\"Measured\"))\n",
    "# fig.add_trace(go.Scatter(x=observed_ci, y=observed_an, mode=\"markers\", name=\"Measured\"))\n",
    "fig.update(\n",
    "    layout_title_text=\"An vs. Ci\",\n",
    "    layout_xaxis_title_text=\"Ci\",\n",
    "    layout_yaxis_title_text=\"An\",\n",
    ")\n",
    "fig.show()"
   ]
  },
  {
   "attachments": {},
   "cell_type": "markdown",
   "metadata": {},
   "source": [
    "## Defining a loss function"
   ]
  },
  {
   "attachments": {},
   "cell_type": "markdown",
   "metadata": {},
   "source": [
    "For our loss function, we want to determine how far apart the predicted and observed curves are from each other. \n",
    "\n",
    "To quantify this, we take a root mean squared error over 50 sample points for each function. "
   ]
  },
  {
   "cell_type": "code",
   "execution_count": 214,
   "metadata": {},
   "outputs": [],
   "source": [
    "def loss(cair_values, vcmax_z: float) -> float:\n",
    "    model_values = get_model_values(cair_values, vcmax_z)\n",
    "    observed_values = get_observed_values(\"2021-07-15-Me2-05.csv\")\n",
    "    observed_values = linear_interp_with_extrapolation(observed_values[\"ci\"], observed_values[\"an\"], model_values['ci'])\n",
    "    return np.sum((model_values['an'] - observed_values) ** 2)\n"
   ]
  },
  {
   "cell_type": "code",
   "execution_count": 215,
   "metadata": {},
   "outputs": [],
   "source": [
    "sample_points = 100\n",
    "cair_values = np.linspace(10, 100, sample_points)"
   ]
  },
  {
   "attachments": {},
   "cell_type": "markdown",
   "metadata": {},
   "source": [
    "### Method 1: Uniform Sampling"
   ]
  },
  {
   "attachments": {},
   "cell_type": "markdown",
   "metadata": {},
   "source": [
    "First, we can try getting an optimal value of Vcmax by guessing 50 evenly spaced points. "
   ]
  },
  {
   "cell_type": "code",
   "execution_count": 226,
   "metadata": {},
   "outputs": [
    {
     "name": "stdout",
     "output_type": "stream",
     "text": [
      "vcmax_z: 0.0, loss: 2994.2219878668243\n",
      "vcmax_z: 2.0408163265306123, loss: 2630.9990369052457\n",
      "vcmax_z: 4.081632653061225, loss: 2302.5055261434136\n",
      "vcmax_z: 6.122448979591837, loss: 1999.3205699283926\n",
      "vcmax_z: 8.16326530612245, loss: 1717.185361877547\n",
      "vcmax_z: 10.204081632653061, loss: 1453.990665344941\n",
      "vcmax_z: 12.244897959183675, loss: 1189.2472096041831\n",
      "vcmax_z: 14.285714285714286, loss: 956.3398821956265\n",
      "vcmax_z: 16.3265306122449, loss: 770.2987652485432\n",
      "vcmax_z: 18.367346938775512, loss: 614.2628608054924\n",
      "vcmax_z: 20.408163265306122, loss: 484.6108790949251\n",
      "vcmax_z: 22.448979591836736, loss: 371.2292395649516\n",
      "vcmax_z: 24.48979591836735, loss: 275.8798375222003\n",
      "vcmax_z: 26.53061224489796, loss: 196.1205173072147\n",
      "vcmax_z: 28.571428571428573, loss: 130.64140008124463\n",
      "vcmax_z: 30.612244897959183, loss: 80.28184243690416\n",
      "vcmax_z: 32.6530612244898, loss: 43.998858002522795\n",
      "vcmax_z: 34.69387755102041, loss: 18.51906880309579\n",
      "vcmax_z: 36.734693877551024, loss: 4.828398052766197\n",
      "vcmax_z: 38.775510204081634, loss: 1.4899904139170494\n",
      "vcmax_z: 40.816326530612244, loss: 7.570992437121698\n",
      "vcmax_z: 42.85714285714286, loss: 22.662705586965643\n",
      "vcmax_z: 44.89795918367347, loss: 45.689085510288876\n",
      "vcmax_z: 46.93877551020408, loss: 74.5724692933715\n",
      "vcmax_z: 48.9795918367347, loss: 111.21778235422256\n",
      "vcmax_z: 51.02040816326531, loss: 154.1060186623873\n",
      "vcmax_z: 53.06122448979592, loss: 200.83288513338914\n",
      "vcmax_z: 55.10204081632653, loss: 251.87797809814677\n",
      "vcmax_z: 57.142857142857146, loss: 308.97251587766783\n",
      "vcmax_z: 59.183673469387756, loss: 370.2243445811795\n",
      "vcmax_z: 61.224489795918366, loss: 431.356384779494\n",
      "vcmax_z: 63.26530612244898, loss: 496.90841105887466\n",
      "vcmax_z: 65.3061224489796, loss: 568.2268733454099\n",
      "vcmax_z: 67.34693877551021, loss: 637.5368399103834\n",
      "vcmax_z: 69.38775510204081, loss: 706.9024274480173\n",
      "vcmax_z: 71.42857142857143, loss: 780.8652767715464\n",
      "vcmax_z: 73.46938775510205, loss: 854.4171762455101\n",
      "vcmax_z: 75.51020408163265, loss: 925.0648854836492\n",
      "vcmax_z: 77.55102040816327, loss: 996.9416232205252\n",
      "vcmax_z: 79.59183673469389, loss: 1070.4892860771618\n",
      "vcmax_z: 81.63265306122449, loss: 1142.1455645423807\n",
      "vcmax_z: 83.6734693877551, loss: 1212.9402963130162\n",
      "vcmax_z: 85.71428571428572, loss: 1284.670812073118\n",
      "vcmax_z: 87.75510204081633, loss: 1354.9432834373938\n",
      "vcmax_z: 89.79591836734694, loss: 1424.400315413578\n",
      "vcmax_z: 91.83673469387756, loss: 1491.5524759619022\n",
      "vcmax_z: 93.87755102040816, loss: 1556.897152723555\n",
      "vcmax_z: 95.91836734693878, loss: 1628.8738459431834\n",
      "vcmax_z: 97.9591836734694, loss: 1694.1298679941483\n",
      "vcmax_z: 100.0, loss: 1753.418856550502\n",
      "Best vcmax_z: 38.775510204081634, min_loss: 1.4899904139170494\n"
     ]
    }
   ],
   "source": [
    "num_points = 50\n",
    "vcmax_values = np.linspace(0, 100, num_points)\n",
    "loss_table = np.zeros(len(vcmax_values))\n",
    "for i, vcmax_z in enumerate(vcmax_values):\n",
    "    loss_table[i] = loss(cair_values, vcmax_z)\n",
    "    print(f\"vcmax_z: {vcmax_z}, loss: {loss_table[i]}\")\n",
    "\n",
    "\n",
    "# Find the minimum loss (ignorning NaNs)\n",
    "loss_table = np.ma.array(loss_table, mask=np.isnan(loss_table))\n",
    "min_loss = np.min(loss_table)\n",
    "min_loss_index = np.argmin(loss_table)\n",
    "uniform_vcmax = vcmax_values[min_loss_index]\n",
    "\n",
    "print(f\"Best vcmax_z: {uniform_vcmax}, min_loss: {min_loss}\")\n"
   ]
  },
  {
   "attachments": {},
   "cell_type": "markdown",
   "metadata": {},
   "source": [
    "### Method 2: Gradient Descent"
   ]
  },
  {
   "attachments": {},
   "cell_type": "markdown",
   "metadata": {},
   "source": [
    "Rather than randomly guessing parameter values, we can use gradient descent to find the value of Vcmax that minimizes the loss function. This should take less iterations to find a lower loss value. "
   ]
  },
  {
   "cell_type": "code",
   "execution_count": 217,
   "metadata": {},
   "outputs": [],
   "source": [
    "import jax\n",
    "from functools import partial\n",
    "\n",
    "cair_values = np.linspace(10, 100, sample_points)\n",
    "vcmax_loss = partial(loss, cair_values)\n",
    "grad_loss = jax.grad(vcmax_loss)\n",
    "\n",
    "def gradient_descent(param, learning_rate, n_steps):\n",
    "    for _ in range(n_steps):\n",
    "        grads = grad_loss(param)\n",
    "        param = param - learning_rate * grads\n",
    "        print(f\"param: {param}, loss: {vcmax_loss(param)}\")\n",
    "    return param"
   ]
  },
  {
   "cell_type": "code",
   "execution_count": 229,
   "metadata": {},
   "outputs": [
    {
     "name": "stdout",
     "output_type": "stream",
     "text": [
      "param: 42.22740119445518, loss: 90.23400270689132\n",
      "param: 37.94320406120169, loss: 7.66977584121633\n",
      "param: 38.51257723758147, loss: 6.493522362680697\n",
      "param: 38.364562362527145, loss: 6.397030387708359\n",
      "param: 38.4004026475763, loss: 6.392220936062135\n",
      "param: 38.391457873291884, loss: 6.391920489292645\n",
      "param: 38.39362389936614, loss: 6.391901901933405\n",
      "param: 38.39315641591215, loss: 6.3919010832882295\n",
      "param: 38.393273666898956, loss: 6.391901031790853\n",
      "param: 38.3932442574269, loss: 6.391901028550744\n"
     ]
    }
   ],
   "source": [
    "initial_vcmax = 30.0\n",
    "gradient_vcmax = gradient_descent(initial_vcmax, 0.1, 10)"
   ]
  },
  {
   "cell_type": "code",
   "execution_count": 230,
   "metadata": {},
   "outputs": [
    {
     "name": "stdout",
     "output_type": "stream",
     "text": [
      "Best vcmax: 38.3932442574269, loss: 6.391901028550744\n"
     ]
    }
   ],
   "source": [
    "print(f\"Best vcmax: {gradient_vcmax}, loss: {vcmax_loss(gradient_vcmax)}\")"
   ]
  },
  {
   "attachments": {},
   "cell_type": "markdown",
   "metadata": {},
   "source": [
    "### Graphing the results"
   ]
  },
  {
   "cell_type": "code",
   "execution_count": 245,
   "metadata": {},
   "outputs": [
    {
     "data": {
      "application/vnd.plotly.v1+json": {
       "config": {
        "plotlyServerURL": "https://plot.ly"
       },
       "data": [
        {
         "name": "Measured",
         "type": "scatter",
         "x": [
          12.056951367608757,
          13.216460793121188,
          14.375970218633618,
          15.53547964414605,
          16.694989069658483,
          17.854498495170912,
          19.014007920683344,
          20.173517346195773,
          21.333026771708205,
          22.492536197220637,
          23.652045622733066,
          24.8115550482455,
          25.971064473757927,
          27.13057389927036,
          28.290083324782792,
          29.44959275029522,
          30.609102175807653,
          31.768611601320085,
          32.928121026832514,
          34.087630452344946,
          35.24713987785738,
          36.406649303369804,
          37.56615872888224,
          38.72566815439467,
          39.8851775799071,
          41.04468700541953,
          42.20419643093196,
          43.3637058564444,
          44.52321528195682,
          45.68272470746926,
          46.84223413298169,
          48.00174355849411,
          49.16125298400655,
          50.32076240951898,
          51.48027183503142,
          52.63978126054384,
          53.79929068605627,
          54.958800111568706,
          56.11830953708113,
          57.27781896259357,
          58.437328388105996,
          59.59683781361842,
          60.75634723913086,
          61.915856664643286,
          63.075366090155725,
          64.23487551566815,
          65.39438494118058,
          66.55389436669302,
          67.71340379220544,
          68.87291321771788
         ],
         "y": [
          0.2138402568763681,
          0.555979579318901,
          0.8981189017614339,
          1.2230944610019623,
          1.4837866778323154,
          1.744478894662668,
          2.005171111493021,
          2.2658633283233733,
          2.573503103046674,
          2.938170654550481,
          3.302838206054287,
          3.667505757558094,
          3.771625524075189,
          3.773422319144952,
          4.122990729021565,
          4.472559138898177,
          4.822127548774789,
          5.095045619844835,
          5.2652403609385985,
          5.435435102032363,
          5.6056298431261276,
          5.775824584219892,
          5.9460193253136575,
          6.119759857262372,
          6.29353942564129,
          6.467318994020209,
          6.641098562399126,
          6.814878130778045,
          6.9886576991569616,
          7.162437267535881,
          7.336216835914798,
          7.509996404293715,
          7.683775972672635,
          7.812556554207438,
          7.865415087591638,
          7.918273620975837,
          7.971132154360037,
          8.023990687744236,
          8.076849221128436,
          8.129707754512635,
          8.182566287896835,
          8.235424821281034,
          8.288283354665234,
          8.341141888049433,
          8.394000421433633,
          8.446858954817833,
          8.499717488202032,
          8.558176872301063,
          8.628341728253497,
          8.698506584205932
         ]
        },
        {
         "name": "Uniform Sampling",
         "type": "scatter",
         "x": [
          12.056951367608757,
          13.636943026567312,
          15.902038257628606,
          18.564237071873002,
          20.94827441820537,
          23.403843195544695,
          25.989019343641402,
          28.397063141571362,
          31.55154735094121,
          34.71550936542788,
          37.96180260302918,
          41.36497869762343,
          44.95174780007794,
          48.67010927355642,
          52.51706983280699,
          56.475796319887266,
          60.53045921880026,
          64.66691889151492,
          68.87291321771788
         ],
         "y": [
          -0.47210453931776897,
          0.14855717765955312,
          0.9867350288391181,
          1.8967757629785398,
          2.6449580781847466,
          3.3512717316053813,
          4.025994972435903,
          4.592801360304312,
          5.249541021167342,
          5.8178971405487925,
          6.317634296093074,
          6.764010607318353,
          7.163415471018016,
          7.51523207164014,
          7.825943460699186,
          8.100597235571925,
          8.343971686055854,
          8.560355946075203,
          8.753484454940837
         ]
        },
        {
         "name": "Gradient Descent",
         "type": "scatter",
         "x": [
          12.169709564617525,
          13.691451219575145,
          15.971984815643134,
          18.642932134764862,
          21.045080013215575,
          23.52034362057543,
          26.12610223393392,
          28.576529725677837,
          31.741872682494197,
          34.9170728865497,
          38.184275254888476,
          41.607347063651474,
          45.21465811157733,
          48.950785291324244,
          52.81364728647076,
          56.78639676926499,
          60.853303091602776,
          65.00038129342369,
          69.21554278711535
         ],
         "y": [
          -0.46196198737492367,
          0.1284280869513621,
          0.9624081466014047,
          1.86428781147141,
          2.6084978773391505,
          3.3107261616716217,
          3.9807774926412236,
          4.54808157465367,
          5.195189874161176,
          5.754764307935032,
          6.2477534029630135,
          6.687486444666197,
          7.080712925673655,
          7.426703861213406,
          7.73210822952511,
          8.001985570272877,
          8.241090256887805,
          8.453669334183777,
          8.643408663740088
         ]
        }
       ],
       "layout": {
        "template": {
         "data": {
          "bar": [
           {
            "error_x": {
             "color": "#2a3f5f"
            },
            "error_y": {
             "color": "#2a3f5f"
            },
            "marker": {
             "line": {
              "color": "#E5ECF6",
              "width": 0.5
             },
             "pattern": {
              "fillmode": "overlay",
              "size": 10,
              "solidity": 0.2
             }
            },
            "type": "bar"
           }
          ],
          "barpolar": [
           {
            "marker": {
             "line": {
              "color": "#E5ECF6",
              "width": 0.5
             },
             "pattern": {
              "fillmode": "overlay",
              "size": 10,
              "solidity": 0.2
             }
            },
            "type": "barpolar"
           }
          ],
          "carpet": [
           {
            "aaxis": {
             "endlinecolor": "#2a3f5f",
             "gridcolor": "white",
             "linecolor": "white",
             "minorgridcolor": "white",
             "startlinecolor": "#2a3f5f"
            },
            "baxis": {
             "endlinecolor": "#2a3f5f",
             "gridcolor": "white",
             "linecolor": "white",
             "minorgridcolor": "white",
             "startlinecolor": "#2a3f5f"
            },
            "type": "carpet"
           }
          ],
          "choropleth": [
           {
            "colorbar": {
             "outlinewidth": 0,
             "ticks": ""
            },
            "type": "choropleth"
           }
          ],
          "contour": [
           {
            "colorbar": {
             "outlinewidth": 0,
             "ticks": ""
            },
            "colorscale": [
             [
              0,
              "#0d0887"
             ],
             [
              0.1111111111111111,
              "#46039f"
             ],
             [
              0.2222222222222222,
              "#7201a8"
             ],
             [
              0.3333333333333333,
              "#9c179e"
             ],
             [
              0.4444444444444444,
              "#bd3786"
             ],
             [
              0.5555555555555556,
              "#d8576b"
             ],
             [
              0.6666666666666666,
              "#ed7953"
             ],
             [
              0.7777777777777778,
              "#fb9f3a"
             ],
             [
              0.8888888888888888,
              "#fdca26"
             ],
             [
              1,
              "#f0f921"
             ]
            ],
            "type": "contour"
           }
          ],
          "contourcarpet": [
           {
            "colorbar": {
             "outlinewidth": 0,
             "ticks": ""
            },
            "type": "contourcarpet"
           }
          ],
          "heatmap": [
           {
            "colorbar": {
             "outlinewidth": 0,
             "ticks": ""
            },
            "colorscale": [
             [
              0,
              "#0d0887"
             ],
             [
              0.1111111111111111,
              "#46039f"
             ],
             [
              0.2222222222222222,
              "#7201a8"
             ],
             [
              0.3333333333333333,
              "#9c179e"
             ],
             [
              0.4444444444444444,
              "#bd3786"
             ],
             [
              0.5555555555555556,
              "#d8576b"
             ],
             [
              0.6666666666666666,
              "#ed7953"
             ],
             [
              0.7777777777777778,
              "#fb9f3a"
             ],
             [
              0.8888888888888888,
              "#fdca26"
             ],
             [
              1,
              "#f0f921"
             ]
            ],
            "type": "heatmap"
           }
          ],
          "heatmapgl": [
           {
            "colorbar": {
             "outlinewidth": 0,
             "ticks": ""
            },
            "colorscale": [
             [
              0,
              "#0d0887"
             ],
             [
              0.1111111111111111,
              "#46039f"
             ],
             [
              0.2222222222222222,
              "#7201a8"
             ],
             [
              0.3333333333333333,
              "#9c179e"
             ],
             [
              0.4444444444444444,
              "#bd3786"
             ],
             [
              0.5555555555555556,
              "#d8576b"
             ],
             [
              0.6666666666666666,
              "#ed7953"
             ],
             [
              0.7777777777777778,
              "#fb9f3a"
             ],
             [
              0.8888888888888888,
              "#fdca26"
             ],
             [
              1,
              "#f0f921"
             ]
            ],
            "type": "heatmapgl"
           }
          ],
          "histogram": [
           {
            "marker": {
             "pattern": {
              "fillmode": "overlay",
              "size": 10,
              "solidity": 0.2
             }
            },
            "type": "histogram"
           }
          ],
          "histogram2d": [
           {
            "colorbar": {
             "outlinewidth": 0,
             "ticks": ""
            },
            "colorscale": [
             [
              0,
              "#0d0887"
             ],
             [
              0.1111111111111111,
              "#46039f"
             ],
             [
              0.2222222222222222,
              "#7201a8"
             ],
             [
              0.3333333333333333,
              "#9c179e"
             ],
             [
              0.4444444444444444,
              "#bd3786"
             ],
             [
              0.5555555555555556,
              "#d8576b"
             ],
             [
              0.6666666666666666,
              "#ed7953"
             ],
             [
              0.7777777777777778,
              "#fb9f3a"
             ],
             [
              0.8888888888888888,
              "#fdca26"
             ],
             [
              1,
              "#f0f921"
             ]
            ],
            "type": "histogram2d"
           }
          ],
          "histogram2dcontour": [
           {
            "colorbar": {
             "outlinewidth": 0,
             "ticks": ""
            },
            "colorscale": [
             [
              0,
              "#0d0887"
             ],
             [
              0.1111111111111111,
              "#46039f"
             ],
             [
              0.2222222222222222,
              "#7201a8"
             ],
             [
              0.3333333333333333,
              "#9c179e"
             ],
             [
              0.4444444444444444,
              "#bd3786"
             ],
             [
              0.5555555555555556,
              "#d8576b"
             ],
             [
              0.6666666666666666,
              "#ed7953"
             ],
             [
              0.7777777777777778,
              "#fb9f3a"
             ],
             [
              0.8888888888888888,
              "#fdca26"
             ],
             [
              1,
              "#f0f921"
             ]
            ],
            "type": "histogram2dcontour"
           }
          ],
          "mesh3d": [
           {
            "colorbar": {
             "outlinewidth": 0,
             "ticks": ""
            },
            "type": "mesh3d"
           }
          ],
          "parcoords": [
           {
            "line": {
             "colorbar": {
              "outlinewidth": 0,
              "ticks": ""
             }
            },
            "type": "parcoords"
           }
          ],
          "pie": [
           {
            "automargin": true,
            "type": "pie"
           }
          ],
          "scatter": [
           {
            "fillpattern": {
             "fillmode": "overlay",
             "size": 10,
             "solidity": 0.2
            },
            "type": "scatter"
           }
          ],
          "scatter3d": [
           {
            "line": {
             "colorbar": {
              "outlinewidth": 0,
              "ticks": ""
             }
            },
            "marker": {
             "colorbar": {
              "outlinewidth": 0,
              "ticks": ""
             }
            },
            "type": "scatter3d"
           }
          ],
          "scattercarpet": [
           {
            "marker": {
             "colorbar": {
              "outlinewidth": 0,
              "ticks": ""
             }
            },
            "type": "scattercarpet"
           }
          ],
          "scattergeo": [
           {
            "marker": {
             "colorbar": {
              "outlinewidth": 0,
              "ticks": ""
             }
            },
            "type": "scattergeo"
           }
          ],
          "scattergl": [
           {
            "marker": {
             "colorbar": {
              "outlinewidth": 0,
              "ticks": ""
             }
            },
            "type": "scattergl"
           }
          ],
          "scattermapbox": [
           {
            "marker": {
             "colorbar": {
              "outlinewidth": 0,
              "ticks": ""
             }
            },
            "type": "scattermapbox"
           }
          ],
          "scatterpolar": [
           {
            "marker": {
             "colorbar": {
              "outlinewidth": 0,
              "ticks": ""
             }
            },
            "type": "scatterpolar"
           }
          ],
          "scatterpolargl": [
           {
            "marker": {
             "colorbar": {
              "outlinewidth": 0,
              "ticks": ""
             }
            },
            "type": "scatterpolargl"
           }
          ],
          "scatterternary": [
           {
            "marker": {
             "colorbar": {
              "outlinewidth": 0,
              "ticks": ""
             }
            },
            "type": "scatterternary"
           }
          ],
          "surface": [
           {
            "colorbar": {
             "outlinewidth": 0,
             "ticks": ""
            },
            "colorscale": [
             [
              0,
              "#0d0887"
             ],
             [
              0.1111111111111111,
              "#46039f"
             ],
             [
              0.2222222222222222,
              "#7201a8"
             ],
             [
              0.3333333333333333,
              "#9c179e"
             ],
             [
              0.4444444444444444,
              "#bd3786"
             ],
             [
              0.5555555555555556,
              "#d8576b"
             ],
             [
              0.6666666666666666,
              "#ed7953"
             ],
             [
              0.7777777777777778,
              "#fb9f3a"
             ],
             [
              0.8888888888888888,
              "#fdca26"
             ],
             [
              1,
              "#f0f921"
             ]
            ],
            "type": "surface"
           }
          ],
          "table": [
           {
            "cells": {
             "fill": {
              "color": "#EBF0F8"
             },
             "line": {
              "color": "white"
             }
            },
            "header": {
             "fill": {
              "color": "#C8D4E3"
             },
             "line": {
              "color": "white"
             }
            },
            "type": "table"
           }
          ]
         },
         "layout": {
          "annotationdefaults": {
           "arrowcolor": "#2a3f5f",
           "arrowhead": 0,
           "arrowwidth": 1
          },
          "autotypenumbers": "strict",
          "coloraxis": {
           "colorbar": {
            "outlinewidth": 0,
            "ticks": ""
           }
          },
          "colorscale": {
           "diverging": [
            [
             0,
             "#8e0152"
            ],
            [
             0.1,
             "#c51b7d"
            ],
            [
             0.2,
             "#de77ae"
            ],
            [
             0.3,
             "#f1b6da"
            ],
            [
             0.4,
             "#fde0ef"
            ],
            [
             0.5,
             "#f7f7f7"
            ],
            [
             0.6,
             "#e6f5d0"
            ],
            [
             0.7,
             "#b8e186"
            ],
            [
             0.8,
             "#7fbc41"
            ],
            [
             0.9,
             "#4d9221"
            ],
            [
             1,
             "#276419"
            ]
           ],
           "sequential": [
            [
             0,
             "#0d0887"
            ],
            [
             0.1111111111111111,
             "#46039f"
            ],
            [
             0.2222222222222222,
             "#7201a8"
            ],
            [
             0.3333333333333333,
             "#9c179e"
            ],
            [
             0.4444444444444444,
             "#bd3786"
            ],
            [
             0.5555555555555556,
             "#d8576b"
            ],
            [
             0.6666666666666666,
             "#ed7953"
            ],
            [
             0.7777777777777778,
             "#fb9f3a"
            ],
            [
             0.8888888888888888,
             "#fdca26"
            ],
            [
             1,
             "#f0f921"
            ]
           ],
           "sequentialminus": [
            [
             0,
             "#0d0887"
            ],
            [
             0.1111111111111111,
             "#46039f"
            ],
            [
             0.2222222222222222,
             "#7201a8"
            ],
            [
             0.3333333333333333,
             "#9c179e"
            ],
            [
             0.4444444444444444,
             "#bd3786"
            ],
            [
             0.5555555555555556,
             "#d8576b"
            ],
            [
             0.6666666666666666,
             "#ed7953"
            ],
            [
             0.7777777777777778,
             "#fb9f3a"
            ],
            [
             0.8888888888888888,
             "#fdca26"
            ],
            [
             1,
             "#f0f921"
            ]
           ]
          },
          "colorway": [
           "#636efa",
           "#EF553B",
           "#00cc96",
           "#ab63fa",
           "#FFA15A",
           "#19d3f3",
           "#FF6692",
           "#B6E880",
           "#FF97FF",
           "#FECB52"
          ],
          "font": {
           "color": "#2a3f5f"
          },
          "geo": {
           "bgcolor": "white",
           "lakecolor": "white",
           "landcolor": "#E5ECF6",
           "showlakes": true,
           "showland": true,
           "subunitcolor": "white"
          },
          "hoverlabel": {
           "align": "left"
          },
          "hovermode": "closest",
          "mapbox": {
           "style": "light"
          },
          "paper_bgcolor": "white",
          "plot_bgcolor": "#E5ECF6",
          "polar": {
           "angularaxis": {
            "gridcolor": "white",
            "linecolor": "white",
            "ticks": ""
           },
           "bgcolor": "#E5ECF6",
           "radialaxis": {
            "gridcolor": "white",
            "linecolor": "white",
            "ticks": ""
           }
          },
          "scene": {
           "xaxis": {
            "backgroundcolor": "#E5ECF6",
            "gridcolor": "white",
            "gridwidth": 2,
            "linecolor": "white",
            "showbackground": true,
            "ticks": "",
            "zerolinecolor": "white"
           },
           "yaxis": {
            "backgroundcolor": "#E5ECF6",
            "gridcolor": "white",
            "gridwidth": 2,
            "linecolor": "white",
            "showbackground": true,
            "ticks": "",
            "zerolinecolor": "white"
           },
           "zaxis": {
            "backgroundcolor": "#E5ECF6",
            "gridcolor": "white",
            "gridwidth": 2,
            "linecolor": "white",
            "showbackground": true,
            "ticks": "",
            "zerolinecolor": "white"
           }
          },
          "shapedefaults": {
           "line": {
            "color": "#2a3f5f"
           }
          },
          "ternary": {
           "aaxis": {
            "gridcolor": "white",
            "linecolor": "white",
            "ticks": ""
           },
           "baxis": {
            "gridcolor": "white",
            "linecolor": "white",
            "ticks": ""
           },
           "bgcolor": "#E5ECF6",
           "caxis": {
            "gridcolor": "white",
            "linecolor": "white",
            "ticks": ""
           }
          },
          "title": {
           "x": 0.05
          },
          "xaxis": {
           "automargin": true,
           "gridcolor": "white",
           "linecolor": "white",
           "ticks": "",
           "title": {
            "standoff": 15
           },
           "zerolinecolor": "white",
           "zerolinewidth": 2
          },
          "yaxis": {
           "automargin": true,
           "gridcolor": "white",
           "linecolor": "white",
           "ticks": "",
           "title": {
            "standoff": 15
           },
           "zerolinecolor": "white",
           "zerolinewidth": 2
          }
         }
        },
        "title": {
         "text": "An vs. Ci"
        },
        "xaxis": {
         "title": {
          "text": "Ci"
         }
        },
        "yaxis": {
         "title": {
          "text": "An"
         }
        }
       }
      }
     },
     "metadata": {},
     "output_type": "display_data"
    }
   ],
   "source": [
    "cair_values = np.linspace(10, 100, 19)\n",
    "\n",
    "observed_values = get_observed_values(\"2021-07-15-Me2-05.csv\")\n",
    "\n",
    "uniform_values = get_model_values(cair_values, uniform_vcmax)\n",
    "gradient_values = get_model_values(cair_values, gradient_vcmax)\n",
    "\n",
    "# For plotting, truncate observed results to the range from uniform sampling.\n",
    "observed_x = np.linspace(uniform_values['ci'][0], uniform_values['ci'][-1], 50) \n",
    "observed_y = linear_interp_with_extrapolation(observed_values['ci'], observed_values['an'], observed_x)\n",
    "\n",
    "# Graph predicted and measured values. \n",
    "fig = go.Figure(data=go.Scatter(x=observed_x, y=observed_y, name=\"Measured\"))\n",
    "fig.add_trace(go.Scatter(x=uniform_values['ci'], y=uniform_values['an'], name=\"Uniform Sampling\"))\n",
    "fig.add_trace(go.Scatter(x=gradient_values['ci'], y=gradient_values['an'], name=\"Gradient Descent\"))\n",
    "fig.update(\n",
    "    layout_title_text=\"An vs. Ci\",\n",
    "    layout_xaxis_title_text=\"Ci\",\n",
    "    layout_yaxis_title_text=\"An\",\n",
    ")\n",
    "fig.show()"
   ]
  },
  {
   "attachments": {},
   "cell_type": "markdown",
   "metadata": {},
   "source": [
    "## Observations"
   ]
  },
  {
   "attachments": {},
   "cell_type": "markdown",
   "metadata": {},
   "source": [
    "How do uniform sampling and gradient descent stack up? Surprisingly, uniform sampling performs better, achieving slighly lower loss than gradient descent. Moreover, the gradient descent version runs much slower than the uniform sampling version. It takes around 12 seconds to set up the functions, and around 15 seconds per iteration. Why is it so slow?\n",
    "\n",
    "That said, the gradient descent version has some advantages:\n",
    "1. Makes far fewer calls to the model\n",
    "2. Makes no assumptions about the range of input parameters\n",
    "3. Can run gradient descent across multiple parameters simultaneously\n",
    "\n",
    "Also, the low loss of the uniform sampling method might be specific to this case. Its success depends on the shape of the loss curve. "
   ]
  }
 ],
 "metadata": {
  "kernelspec": {
   "display_name": "venv",
   "language": "python",
   "name": "python3"
  },
  "language_info": {
   "codemirror_mode": {
    "name": "ipython",
    "version": 3
   },
   "file_extension": ".py",
   "mimetype": "text/x-python",
   "name": "python",
   "nbconvert_exporter": "python",
   "pygments_lexer": "ipython3",
   "version": "3.10.6"
  },
  "orig_nbformat": 4
 },
 "nbformat": 4,
 "nbformat_minor": 2
}
